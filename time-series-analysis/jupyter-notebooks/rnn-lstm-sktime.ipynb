{
 "cells": [
  {
   "cell_type": "markdown",
   "metadata": {},
   "source": [
    "# RNN и LSTM для прогноза\n",
    "\n",
    "Используем классы [`NeuralForecastRNN`](https://www.sktime.net/en/stable/api_reference/auto_generated/sktime.forecasting.neuralforecast.NeuralForecastRNN.html#sktime.forecasting.neuralforecast.NeuralForecastRNN) и [`NeuralForecastLSTM00`](https://www.sktime.net/en/stable/api_reference/auto_generated/sktime.forecasting.neuralforecast.NeuralForecastLSTM.html#sktime.forecasting.neuralforecast.NeuralForecastLSTM)\n",
    "\n",
    "Пример [`RNN`](https://github.com/Nixtla/neuralforecast/blob/main/nbs/models.rnn.ipynb), пример [`LSTM`](https://github.com/Nixtla/neuralforecast/blob/main/nbs/models.lstm.ipynb)"
   ]
  },
  {
   "cell_type": "code",
   "execution_count": null,
   "metadata": {},
   "outputs": [],
   "source": [
    "import numpy as np\n",
    "import pandas as pd\n",
    "\n",
    "from sktime.forecasting.neuralforecast import NeuralForecastRNN, NeuralForecastLSTM\n",
    "from sktime.split import temporal_train_test_split\n",
    "from sktime.utils.plotting import plot_series\n",
    "\n",
    "# Метрики подгонки RNN/LSTM\n",
    "from neuralforecast.losses.pytorch import MAE, MSE,RMSE, MAPE\n",
    "\n",
    "import pandas_datareader.data as web\n",
    "\n",
    "# настройки визуализации\n",
    "import matplotlib.pyplot as plt\n",
    "\n",
    "# Не показывать Warnings\n",
    "import warnings\n",
    "warnings.simplefilter(action='ignore', category=Warning)"
   ]
  },
  {
   "cell_type": "code",
   "execution_count": null,
   "metadata": {},
   "outputs": [],
   "source": [
    "y = web.DataReader(name='GS10', data_source='fred', start='2000-01-01')\n",
    "plot_series(y)"
   ]
  },
  {
   "cell_type": "code",
   "execution_count": null,
   "metadata": {},
   "outputs": [],
   "source": [
    "y_train, y_test = temporal_train_test_split(y, test_size=10)"
   ]
  },
  {
   "cell_type": "code",
   "execution_count": null,
   "metadata": {},
   "outputs": [],
   "source": [
    "# По умолчанию loss= MAE()\n",
    "model_rnn = NeuralForecastRNN(freq=\"M\", max_steps=50, encoder_n_layers=1, encoder_hidden_size=100, decoder_layers=1, decoder_hidden_size=100)\n",
    "\n",
    "model_rnn.fit(y_train, fh=y_test.index)"
   ]
  },
  {
   "cell_type": "code",
   "execution_count": null,
   "metadata": {},
   "outputs": [],
   "source": [
    "y_pred_rnn = model_rnn.predict(fh=y_test.index)"
   ]
  },
  {
   "cell_type": "code",
   "execution_count": null,
   "metadata": {},
   "outputs": [],
   "source": [
    "# По умолчанию loss= MAE()\n",
    "model_lstm = NeuralForecastLSTM(freq=\"M\", max_steps=50, encoder_n_layers=1, encoder_hidden_size=100, decoder_layers=1, decoder_hidden_size=100)\n",
    "\n",
    "model_lstm.fit(y_train, fh=y_test.index)"
   ]
  },
  {
   "cell_type": "code",
   "execution_count": null,
   "metadata": {},
   "outputs": [],
   "source": [
    "y_pred_lstm = model_lstm.predict(fh=y_test.index)"
   ]
  },
  {
   "cell_type": "code",
   "execution_count": null,
   "metadata": {},
   "outputs": [],
   "source": [
    "plot_series(y.tail(60), y_pred_rnn, y_pred_lstm, labels=['y', 'pred_rnn', 'pred_lstm'])\n",
    "\n",
    "plt.show()"
   ]
  }
 ],
 "metadata": {
  "kernelspec": {
   "display_name": "base",
   "language": "python",
   "name": "python3"
  },
  "language_info": {
   "codemirror_mode": {
    "name": "ipython",
    "version": 3
   },
   "file_extension": ".py",
   "mimetype": "text/x-python",
   "name": "python",
   "nbconvert_exporter": "python",
   "pygments_lexer": "ipython3",
   "version": "3.12.10"
  }
 },
 "nbformat": 4,
 "nbformat_minor": 4
}
