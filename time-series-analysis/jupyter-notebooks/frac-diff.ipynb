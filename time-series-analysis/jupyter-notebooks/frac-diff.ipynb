{
 "cells": [
  {
   "cell_type": "markdown",
   "metadata": {},
   "source": [
    "# Дробное дифференцирование"
   ]
  },
  {
   "cell_type": "code",
   "execution_count": null,
   "metadata": {},
   "outputs": [],
   "source": [
    "import numpy as np\n",
    "import pandas as pd \n",
    "\n",
    "import pandas_datareader.data as web\n",
    "\n",
    "# настройки визуализации\n",
    "import matplotlib.pyplot as plt\n",
    "\n",
    "# Не показывать Warnings\n",
    "import warnings\n",
    "warnings.simplefilter(action='ignore', category=Warning)"
   ]
  },
  {
   "cell_type": "markdown",
   "metadata": {},
   "source": [
    "## Функции для дробного дифференцирования\n",
    "\n",
    "[Источник](https://www.kaggle.com/code/elvisesp/time-series-analysis-using-fractional-differencing)"
   ]
  },
  {
   "cell_type": "code",
   "execution_count": null,
   "metadata": {},
   "outputs": [],
   "source": [
    "def getWeights(d,lags):\n",
    "    # return the weights from the series expansion of the differencing operator\n",
    "    # for real orders d and up to lags coefficients\n",
    "    w=[1]\n",
    "    for k in range(1,lags):\n",
    "        w.append(-w[-1]*((d-k+1))/k)\n",
    "    w=np.array(w).reshape(-1,1) \n",
    "    return w\n",
    "def plotWeights(dRange, lags, numberPlots):\n",
    "    weights=pd.DataFrame(np.zeros((lags, numberPlots)))\n",
    "    interval=np.linspace(dRange[0],dRange[1],numberPlots)\n",
    "    for i, diff_order in enumerate(interval):\n",
    "        weights[i]=getWeights(diff_order,lags)\n",
    "    weights.columns = [round(x,2) for x in interval]\n",
    "    fig=weights.plot(figsize=(15,6))\n",
    "    plt.legend(title='Order of differencing')\n",
    "    plt.title('Lag coefficients for various orders of differencing')\n",
    "    plt.xlabel('lag coefficients')\n",
    "    #plt.grid(False)\n",
    "    plt.show()\n",
    "def ts_differencing(series, order, lag_cutoff):\n",
    "    # return the time series resulting from (fractional) differencing\n",
    "    # for real orders order up to lag_cutoff coefficients\n",
    "    \n",
    "    weights=getWeights(order, lag_cutoff)\n",
    "    res=0\n",
    "    for k in range(lag_cutoff):\n",
    "        res += weights[k]*series.shift(k).fillna(0)\n",
    "    return res[lag_cutoff:] "
   ]
  },
  {
   "cell_type": "markdown",
   "metadata": {},
   "source": [
    "## Пример 1\n",
    "\n",
    "Загрузим из БД [`FRED`](https://fred.stlouisfed.org/) дневные данные по 3-Month Treasury Bill Secondary Market Rate (Symbol [`WTB3MS`](https://fred.stlouisfed.org/series/WTB3MS)) с 2010-01 по н.в."
   ]
  },
  {
   "cell_type": "code",
   "execution_count": null,
   "metadata": {},
   "outputs": [],
   "source": [
    "y = web.DataReader(name='WTB3MS', data_source='fred',start='2010-01-01')\n",
    "y.columns = ['3Mrate']\n",
    "y"
   ]
  },
  {
   "cell_type": "code",
   "execution_count": null,
   "metadata": {},
   "outputs": [],
   "source": [
    "# дифференцирование порядка 0.5 с шириной временного окна 10\n",
    "ts_differencing(y, 0.5, 10)"
   ]
  },
  {
   "cell_type": "markdown",
   "metadata": {},
   "source": [
    "Визуализация дробных разностей разного порядка"
   ]
  },
  {
   "cell_type": "code",
   "execution_count": null,
   "metadata": {},
   "outputs": [],
   "source": [
    "# исходный ряд\n",
    "fig, ax = plt.subplots(1,1,figsize=(15,6))\n",
    "\n",
    "ax.plot(y)\n",
    "ax.set_title('Levels')\n",
    "\n",
    "plt.show()"
   ]
  },
  {
   "cell_type": "code",
   "execution_count": null,
   "metadata": {},
   "outputs": [],
   "source": [
    "differences=[0.2, 0.5, 0.8, 1, 1.2]\n",
    "win_size = 10\n",
    "\n",
    "# исходный ряд\n",
    "fig, axs = plt.subplots(len(differences),1,figsize=(15,4*len(differences)))\n",
    "\n",
    "for i in range(len(differences)):\n",
    "\taxs[i].plot(ts_differencing(y, differences[i], win_size))\n",
    "\taxs[i].set_title(f'Difference of order {differences[i]}')\n",
    "\n",
    "plt.show()\n"
   ]
  }
 ],
 "metadata": {
  "kernelspec": {
   "display_name": "base",
   "language": "python",
   "name": "python3"
  },
  "language_info": {
   "codemirror_mode": {
    "name": "ipython",
    "version": 3
   },
   "file_extension": ".py",
   "mimetype": "text/x-python",
   "name": "python",
   "nbconvert_exporter": "python",
   "pygments_lexer": "ipython3",
   "version": "3.12.9"
  }
 },
 "nbformat": 4,
 "nbformat_minor": 2
}
