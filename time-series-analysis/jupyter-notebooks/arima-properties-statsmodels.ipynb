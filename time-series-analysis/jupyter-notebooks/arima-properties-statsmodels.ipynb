{
 "cells": [
  {
   "cell_type": "markdown",
   "metadata": {},
   "source": [
    "# Модель ARIMA. Свойства\n",
    "\n",
    "Проверка условия стационарности и обратимости для ARIMA в пакете `statsmodels`\n",
    "\n",
    "Используем класс [`ArmaProcess`](https://www.statsmodels.org/stable/generated/statsmodels.tsa.arima_process.ArmaProcess.html#statsmodels.tsa.arima_process.ArmaProcess)"
   ]
  },
  {
   "cell_type": "code",
   "execution_count": null,
   "metadata": {},
   "outputs": [],
   "source": [
    "from statsmodels.tsa.arima_process import ArmaProcess"
   ]
  },
  {
   "cell_type": "markdown",
   "metadata": {},
   "source": [
    "Рассмотрим модель ARIMA(2,1,2) \n",
    "\n",
    "$$\n",
    "\t\\Delta y_t=(\\alpha_0+\\alpha_1 t)+0.6\\Delta y_{t-1}-0.3\\Delta y_{t-2}+u_t+0.4u_{t-1}-0.3u_{t-2}\n",
    "$$\n",
    "Спецификация с использованием лагового оператора\n",
    "$$\n",
    "\\begin{aligned}\n",
    "\t\\phi(L)(1-L)y_t&=(\\alpha_0+\\alpha_1 t)+\\theta(L)u_t & \\phi(z)&=1-0.6L+0.3L^2 & \\theta(L)&=1+0.4L-0.3L^2\n",
    "\\end{aligned}\n",
    "$$\n",
    "\n",
    "Зададим процесс через коэффициенты многочленов $\\phi(z),\\theta(z)$, __начиная с единицы__"
   ]
  },
  {
   "cell_type": "code",
   "execution_count": null,
   "metadata": {},
   "outputs": [],
   "source": [
    "arima_process = ArmaProcess(ar = [1, -0.6, 0.3], ma=[1, 0.4, -0.3])"
   ]
  },
  {
   "cell_type": "markdown",
   "metadata": {},
   "source": [
    "## Проверка условия стационарности"
   ]
  },
  {
   "cell_type": "code",
   "execution_count": null,
   "metadata": {},
   "outputs": [],
   "source": [
    "arima_process.isstationary"
   ]
  },
  {
   "cell_type": "markdown",
   "metadata": {},
   "source": [
    "корни характеристического многочлена $\\phi(z)$, в том числе комплексные"
   ]
  },
  {
   "cell_type": "code",
   "execution_count": null,
   "metadata": {},
   "outputs": [],
   "source": [
    "arima_process.arroots"
   ]
  },
  {
   "cell_type": "markdown",
   "metadata": {},
   "source": [
    "## Проверка условия обратимости"
   ]
  },
  {
   "cell_type": "code",
   "execution_count": null,
   "metadata": {},
   "outputs": [],
   "source": [
    "arima_process.isinvertible"
   ]
  },
  {
   "cell_type": "markdown",
   "metadata": {},
   "source": [
    "корни многочлена $\\theta(z)$, в том числе комплексные"
   ]
  },
  {
   "cell_type": "code",
   "execution_count": null,
   "metadata": {},
   "outputs": [],
   "source": [
    "arima_process.maroots"
   ]
  }
 ],
 "metadata": {
  "kernelspec": {
   "display_name": "base",
   "language": "python",
   "name": "python3"
  },
  "language_info": {
   "codemirror_mode": {
    "name": "ipython",
    "version": 3
   },
   "file_extension": ".py",
   "mimetype": "text/x-python",
   "name": "python",
   "nbconvert_exporter": "python",
   "pygments_lexer": "ipython3",
   "version": "3.12.9"
  }
 },
 "nbformat": 4,
 "nbformat_minor": 2
}
