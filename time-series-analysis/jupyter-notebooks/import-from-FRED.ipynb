{
 "cells": [
  {
   "cell_type": "markdown",
   "metadata": {},
   "source": [
    "# Загрузка данных из БД FRED\n",
    "\n",
    "Импорт библиотек"
   ]
  },
  {
   "cell_type": "code",
   "execution_count": null,
   "metadata": {},
   "outputs": [],
   "source": [
    "import numpy as np\n",
    "import pandas as pd \n",
    "\n",
    "import pandas_datareader.data as web\n",
    "\n",
    "# настройки визуализации\n",
    "import matplotlib.pyplot as plt\n",
    "\n",
    "# Не показывать Warnings\n",
    "import warnings\n",
    "warnings.simplefilter(action='ignore', category=Warning)"
   ]
  },
  {
   "cell_type": "markdown",
   "metadata": {},
   "source": [
    "## Пример 1 ВВП\n",
    "Загрузим из БД [`FRED`](https://fred.stlouisfed.org/) квартальные данные по ВВП (Symbol [`GDP`](https://fred.stlouisfed.org/series/GDP)) с 1980 Q1 по 2023 Q4 и создадим датафрейм `gdp`"
   ]
  },
  {
   "cell_type": "code",
   "execution_count": null,
   "metadata": {},
   "outputs": [],
   "source": [
    "gdp = web.DataReader(name='GDP', data_source='fred', start='1980-1', end='2023-12' )\n",
    "gdp"
   ]
  },
  {
   "cell_type": "markdown",
   "metadata": {},
   "source": [
    "изменим индекс на (периодический) квартальный "
   ]
  },
  {
   "cell_type": "code",
   "execution_count": null,
   "metadata": {},
   "outputs": [],
   "source": [
    "gdp.index = gdp.index.to_period(freq='Q')\n",
    "gdp"
   ]
  },
  {
   "cell_type": "markdown",
   "metadata": {},
   "source": [
    "график ряда"
   ]
  },
  {
   "cell_type": "code",
   "execution_count": null,
   "metadata": {},
   "outputs": [],
   "source": [
    "gdp.plot()"
   ]
  },
  {
   "cell_type": "markdown",
   "metadata": {},
   "source": [
    "изменим настройки графика"
   ]
  },
  {
   "cell_type": "code",
   "execution_count": null,
   "metadata": {},
   "outputs": [],
   "source": [
    "ax = gdp.plot(title='GDP')\n",
    "# надпись по ос oX\n",
    "ax.set_xlabel('Date')\n",
    "# надпись по ос oY\n",
    "ax.set_ylabel('US GDP')\n",
    "# отобразить сетку\n",
    "ax.grid()\n",
    "# удалим легенду\n",
    "ax.legend().remove()\n",
    "\n",
    "plt.show()"
   ]
  },
  {
   "cell_type": "markdown",
   "metadata": {},
   "source": [
    "## Пример 2: ставки\n",
    "Загрузим из БД [`FRED`](https://fred.stlouisfed.org/) месячные данные  по \n",
    "\n",
    "* 3-Month Treasury Bill Secondary Market Rate (Symbol [`TB3MS`](https://fred.stlouisfed.org/series/TB3MS)) \n",
    "* 1-Year Treasury Bill Secondary Market Rate (Symbol [`TB1YR`](https://fred.stlouisfed.org/series/TB1YR)) \n",
    "* Market Yield on U.S. Treasury Securities at 10-Year Constant Maturity (Symbol [`GS10`](https://fred.stlouisfed.org/series/GS10))\n",
    "\n",
    "с 1990-01 по 2023-12 и создадим датафрейм `rates`"
   ]
  },
  {
   "cell_type": "code",
   "execution_count": null,
   "metadata": {},
   "outputs": [],
   "source": [
    "rates = web.DataReader(name=['TB3MS', 'TB1YR', 'GS10'], data_source='fred',start='1990-01', end='2023-12')\n",
    "rates"
   ]
  },
  {
   "cell_type": "markdown",
   "metadata": {},
   "source": [
    "зададим (периодический) месячный индекс и изменим названия переменных"
   ]
  },
  {
   "cell_type": "code",
   "execution_count": null,
   "metadata": {},
   "outputs": [],
   "source": [
    "# переопределяем индекс\n",
    "rates.index = rates.index.to_period(freq='M')\n",
    "# переименовываем переменные/столбцы\n",
    "rates.columns = ['3M_rate', '1Y_rate', '10Y_rate']\n",
    "rates"
   ]
  },
  {
   "cell_type": "markdown",
   "metadata": {},
   "source": [
    "Визуализация (всё на одном графике)"
   ]
  },
  {
   "cell_type": "code",
   "execution_count": null,
   "metadata": {},
   "outputs": [],
   "source": [
    "ax = rates.plot()\n",
    "\n",
    "ax.set_xlabel('Date')\n",
    "ax.set_ylabel('Rate (%)')\n",
    "ax.grid()\n",
    "\n",
    "plt.show()"
   ]
  },
  {
   "cell_type": "markdown",
   "metadata": {},
   "source": [
    "визуализируем как отдельные графики для каждой переменной"
   ]
  },
  {
   "cell_type": "code",
   "execution_count": null,
   "metadata": {},
   "outputs": [],
   "source": [
    "rates.plot(subplots=True)"
   ]
  },
  {
   "cell_type": "markdown",
   "metadata": {},
   "source": [
    "изменим настройки графика"
   ]
  },
  {
   "cell_type": "code",
   "execution_count": null,
   "metadata": {},
   "outputs": [],
   "source": [
    "axs = rates.plot(subplots=True)\n",
    "\n",
    "axs[0].set_xlabel('Date')\n",
    "axs[0].set_ylabel('3M rate')\n",
    "axs[0].grid()\n",
    "axs[0].legend().remove()\n",
    "\n",
    "axs[1].set_xlabel('Date')\n",
    "axs[1].set_ylabel('1Y rate')\n",
    "axs[1].grid()\n",
    "axs[1].legend().remove()\n",
    "\n",
    "axs[2].set_xlabel('Date')\n",
    "axs[2].set_ylabel('10Y rate')\n",
    "axs[2].grid()\n",
    "axs[2].legend().remove()\n",
    "\n",
    "plt.show()"
   ]
  }
 ],
 "metadata": {
  "kernelspec": {
   "display_name": "base",
   "language": "python",
   "name": "python3"
  },
  "language_info": {
   "codemirror_mode": {
    "name": "ipython",
    "version": 3
   },
   "file_extension": ".py",
   "mimetype": "text/x-python",
   "name": "python",
   "nbconvert_exporter": "python",
   "pygments_lexer": "ipython3",
   "version": "3.12.9"
  }
 },
 "nbformat": 4,
 "nbformat_minor": 2
}
