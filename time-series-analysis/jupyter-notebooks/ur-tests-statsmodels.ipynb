{
 "cells": [
  {
   "cell_type": "markdown",
   "metadata": {},
   "source": [
    "# Тесты единичного корня (пакет [`statsmodels`](https://www.statsmodels.org/stable/index.html))"
   ]
  },
  {
   "cell_type": "code",
   "execution_count": 1,
   "metadata": {},
   "outputs": [],
   "source": [
    "import numpy as np\n",
    "import pandas as pd\n",
    "\n",
    "from statsmodels.tsa.api import adfuller, kpss, range_unit_root_test\n",
    "\n",
    "import pandas_datareader.data as web\n",
    "\n",
    "# настройки визуализации\n",
    "import matplotlib.pyplot as plt\n",
    "\n",
    "# Не показывать Warnings\n",
    "import warnings\n",
    "warnings.simplefilter(action='ignore', category=Warning)"
   ]
  },
  {
   "cell_type": "markdown",
   "metadata": {},
   "source": [
    "Загрузим из БД [`FRED`](https://fred.stlouisfed.org/) квартальные данные по ВВП (Symbol [`GDP`](https://fred.stlouisfed.org/series/GDP)) с 1990 Q1 по 2023 Q4 и создадим ряд `y`=log(GDP)"
   ]
  },
  {
   "cell_type": "code",
   "execution_count": 2,
   "metadata": {},
   "outputs": [],
   "source": [
    "y = np.log( web.DataReader(name='GDP', data_source='fred', start='1990-1', end='2023-12') )"
   ]
  },
  {
   "cell_type": "code",
   "execution_count": 3,
   "metadata": {},
   "outputs": [
    {
     "data": {
      "image/png": "[encoded data removed]",
      "text/plain": [
       "<Figure size 640x480 with 1 Axes>"
      ]
     },
     "metadata": {},
     "output_type": "display_data"
    }
   ],
   "source": [
    "ax = y.plot(title='US GDP')\n",
    "\n",
    "# надпись по ос oX\n",
    "ax.set_xlabel('Date')\n",
    "# надпись по ос oY\n",
    "ax.set_ylabel('log(GDP)')\n",
    "# отобразить сетку\n",
    "ax.grid()\n",
    "# удалим легенду\n",
    "ax.legend().remove()\n",
    "\n",
    "plt.show()"
   ]
  },
  {
   "cell_type": "markdown",
   "metadata": {},
   "source": [
    "## ADF-тест\n",
    "\n",
    "Используем метод [`adfuller`](https://www.statsmodels.org/stable/generated/statsmodels.tsa.stattools.adfuller.html#statsmodels.tsa.stattools.adfuller)\n",
    "\n",
    "__Параметры теста__\n",
    "\n",
    "|Параметр|Значение|Описание|\n",
    "|-|-|-|\n",
    "|`maxlag`|`None, int`|Максимальное число лагов (по умолчанию $12*(T/100)^{1/4}$)|\n",
    "|`regression`|`“c”,”ct”,”ctt”,”n”`|Вариант теста: _const, linear trend, quadratic trend, zero mean_|\n",
    "|`autolag`|`“AIC”, “BIC”, “t-stat”, None`|Критерий автоматического выбора числа лагов|\n",
    "\n",
    "Выберем вариант теста\n",
    "* с трендом\n",
    "* с автоматическим выбором лагов по критерию BIC"
   ]
  },
  {
   "cell_type": "code",
   "execution_count": 4,
   "metadata": {},
   "outputs": [
    {
     "data": {
      "text/plain": [
       "(np.float64(-1.6638086126474405),\n",
       " np.float64(0.7664601844733989),\n",
       " {'1%': np.float64(-4.027444361631865),\n",
       "  '5%': np.float64(-3.443525725854798),\n",
       "  '10%': np.float64(-3.146427052278616)})"
      ]
     },
     "execution_count": 4,
     "metadata": {},
     "output_type": "execute_result"
    }
   ],
   "source": [
    "adf_stat, pval, usedlag, nobs, critical_values, BIC = adfuller(y, regression='ct', autolag='BIC')\n",
    "# тестовая статистика, её p-значение и критические значения\n",
    "adf_stat, pval, critical_values"
   ]
  },
  {
   "cell_type": "markdown",
   "metadata": {},
   "source": [
    "## KPSS-тест\n",
    "\n",
    "Используем метод [`kpss`](https://www.statsmodels.org/stable/generated/statsmodels.tsa.stattools.kpss.html#statsmodels.tsa.stattools.kpss)\n",
    "\n",
    "__Параметры теста__\n",
    "\n",
    "|Параметр|Значение|Описание|\n",
    "|-|-|-|\n",
    "|`regression`|`“c”,”ct”`|Вариант теста: _const, linear trend_|\n",
    "\n",
    "\n",
    "Выберем вариант теста с трендом"
   ]
  },
  {
   "cell_type": "code",
   "execution_count": 5,
   "metadata": {},
   "outputs": [
    {
     "data": {
      "text/plain": [
       "(np.float64(0.3398286457312108),\n",
       " np.float64(0.01),\n",
       " {'10%': 0.119, '5%': 0.146, '2.5%': 0.176, '1%': 0.216})"
      ]
     },
     "execution_count": 5,
     "metadata": {},
     "output_type": "execute_result"
    }
   ],
   "source": [
    "kpss_stat, p_value, lags, crit = kpss(y, regression='ct')\n",
    "# тестовая статистика, её p-значение и критические значения\n",
    "kpss_stat, p_value, crit"
   ]
  },
  {
   "cell_type": "markdown",
   "metadata": {},
   "source": [
    "## RUR-тест\n",
    "\n",
    "Используем метод [`range_unit_root_test`](https://www.statsmodels.org/stable/generated/statsmodels.tsa.stattools.range_unit_root_test.html#statsmodels.tsa.stattools.range_unit_root_test)\n",
    "\n",
    "__Важно__: тестируем\n",
    "\n",
    "$$\n",
    "\\begin{aligned}\n",
    "\tH_0&:I(0) & &vs & H_1&:I(1)\n",
    "\\end{aligned}\n",
    "$$\n",
    "\n",
    "(__нет варианта с трендом!__)\n",
    "\n",
    "Применим для первой разности"
   ]
  },
  {
   "cell_type": "code",
   "execution_count": 6,
   "metadata": {},
   "outputs": [
    {
     "data": {
      "text/plain": [
       "(np.float64(1.1188618555710317),\n",
       " 0.05,\n",
       " {'10%': np.float64(1.3172199999999998),\n",
       "  '5%': np.float64(1.17319),\n",
       "  '2.5%': np.float64(1.06105),\n",
       "  '1%': np.float64(0.94011)})"
      ]
     },
     "execution_count": 6,
     "metadata": {},
     "output_type": "execute_result"
    }
   ],
   "source": [
    "rur_stat, p_value, crit = range_unit_root_test(y.diff().dropna())\n",
    "# тестовая статистика, её p-значение и критические значения\n",
    "rur_stat, p_value, crit"
   ]
  }
 ],
 "metadata": {
  "kernelspec": {
   "display_name": "base",
   "language": "python",
   "name": "python3"
  },
  "language_info": {
   "codemirror_mode": {
    "name": "ipython",
    "version": 3
   },
   "file_extension": ".py",
   "mimetype": "text/x-python",
   "name": "python",
   "nbconvert_exporter": "python",
   "pygments_lexer": "ipython3",
   "version": "3.12.9"
  }
 },
 "nbformat": 4,
 "nbformat_minor": 2
}
