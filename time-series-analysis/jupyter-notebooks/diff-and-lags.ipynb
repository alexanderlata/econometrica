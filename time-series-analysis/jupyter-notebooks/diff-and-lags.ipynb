{
 "cells": [
  {
   "cell_type": "markdown",
   "metadata": {},
   "source": [
    "# Разности и лаги"
   ]
  },
  {
   "cell_type": "code",
   "execution_count": null,
   "metadata": {},
   "outputs": [],
   "source": [
    "import numpy as np\n",
    "import pandas as pd \n",
    "\n",
    "import pandas_datareader.data as web\n",
    "\n",
    "from sktime.utils.plotting import plot_series, plot_lags\n",
    "\n",
    "# настройки визуализации\n",
    "import matplotlib.pyplot as plt\n",
    "\n",
    "# Не показывать Warnings\n",
    "import warnings\n",
    "warnings.simplefilter(action='ignore', category=Warning)"
   ]
  },
  {
   "cell_type": "markdown",
   "metadata": {},
   "source": [
    "## Пример 1 (первая разности)\n",
    "Загрузим из БД [`FRED`](https://fred.stlouisfed.org/) месячные данные по M2 (Symbol [`M2SL`](https://fred.stlouisfed.org/series/M2SL)) с 1990-01 по 2023-12 и создадим датафрейм `m2`"
   ]
  },
  {
   "cell_type": "code",
   "execution_count": null,
   "metadata": {},
   "outputs": [],
   "source": [
    "m2 = web.DataReader(name='M2SL', data_source='fred', start='1990-01', end='2023-12')\n",
    "m2.index = pd.period_range(start='1990-01', end='2023-12', freq='M')\n",
    "m2.columns = ['M2']\n",
    "m2"
   ]
  },
  {
   "cell_type": "code",
   "execution_count": null,
   "metadata": {},
   "outputs": [],
   "source": [
    "# первая разность\n",
    "m2.diff()"
   ]
  },
  {
   "cell_type": "code",
   "execution_count": null,
   "metadata": {},
   "outputs": [],
   "source": [
    "# вторая разность\n",
    "m2.diff().diff()"
   ]
  },
  {
   "cell_type": "code",
   "execution_count": null,
   "metadata": {},
   "outputs": [],
   "source": [
    "# log-доходность\n",
    "np.log(m2).diff()"
   ]
  },
  {
   "cell_type": "markdown",
   "metadata": {},
   "source": [
    "Визуализируем с разными стиля (предопрелённные стили см. [здесь](https://matplotlib.org/stable/gallery/style_sheets/style_sheets_reference.html))"
   ]
  },
  {
   "cell_type": "code",
   "execution_count": null,
   "metadata": {},
   "outputs": [],
   "source": [
    "plt.style.use('ggplot')\n",
    "\n",
    "ax = m2.plot()\n",
    "ax.set_title('US M2 (monthly data)')\n",
    "ax.set_ylabel('M2')\n",
    "ax.set_xlabel('Date')\n",
    "ax.legend().remove()\n",
    "\n",
    "plt.show()"
   ]
  },
  {
   "cell_type": "code",
   "execution_count": null,
   "metadata": {},
   "outputs": [],
   "source": [
    "plt.style.use('grayscale')\n",
    "\n",
    "ax = m2.diff().plot()\n",
    "ax.set_title('Первая разность M2 (месячные данные)')\n",
    "ax.set_ylabel('diff((M2)')\n",
    "ax.legend().remove()\n",
    "\n",
    "plt.show()"
   ]
  },
  {
   "cell_type": "code",
   "execution_count": null,
   "metadata": {},
   "outputs": [],
   "source": [
    "plt.style.use('bmh')\n",
    "\n",
    "ax = np.log(m2).diff().plot()\n",
    "ax.set_title('log-доходность M2 (месячные данные)')\n",
    "ax.set_ylabel('log(diff((M2))')\n",
    "ax.legend().remove()\n",
    "\n",
    "plt.show()"
   ]
  },
  {
   "cell_type": "code",
   "execution_count": null,
   "metadata": {},
   "outputs": [],
   "source": [
    "# гистограмма для log-доходности\n",
    "plt.style.use('default')\n",
    "ax = np.log(m2).diff().plot.hist(bins=30)\n",
    "ax.set_title('Гистограмма для log-доходности M2')\n",
    "ax.legend().remove()\n",
    "\n",
    "plt.show()"
   ]
  },
  {
   "cell_type": "markdown",
   "metadata": {},
   "source": [
    "## Пример 2 (лаги)\n",
    "\n",
    "Загрузим из БД [`FRED`](https://fred.stlouisfed.org/) месячные данные по 3-Month Treasury Bill Secondary Market Rate (Symbol [`TB3MS`](https://fred.stlouisfed.org/series/TB3MS)) с 1990-01 по 2023-12"
   ]
  },
  {
   "cell_type": "code",
   "execution_count": null,
   "metadata": {},
   "outputs": [],
   "source": [
    "y = web.DataReader(name='TB3MS', data_source='fred',start='1990-01', end='2023-12')\n",
    "y.index = pd.period_range(start='1990-01', end='2023-12', freq='M')\n",
    "y.columns = ['3Mrate']\n",
    "y"
   ]
  },
  {
   "cell_type": "code",
   "execution_count": null,
   "metadata": {},
   "outputs": [],
   "source": [
    "plot_series(y)"
   ]
  },
  {
   "cell_type": "code",
   "execution_count": null,
   "metadata": {},
   "outputs": [],
   "source": [
    "plot_lags(y, lags=1)\n",
    "\n",
    "plt.show()"
   ]
  },
  {
   "cell_type": "code",
   "execution_count": null,
   "metadata": {},
   "outputs": [],
   "source": [
    "plot_lags(y.diff().dropna(), lags=1)\n",
    "\n",
    "plt.show()"
   ]
  },
  {
   "cell_type": "code",
   "execution_count": null,
   "metadata": {},
   "outputs": [],
   "source": [
    "plot_lags(y, lags=[1,2])\n",
    "\n",
    "plt.show()"
   ]
  },
  {
   "cell_type": "code",
   "execution_count": null,
   "metadata": {},
   "outputs": [],
   "source": [
    "plot_lags(y.diff().dropna(), lags=[1,2])\n",
    "\n",
    "plt.show()"
   ]
  },
  {
   "cell_type": "code",
   "execution_count": null,
   "metadata": {},
   "outputs": [],
   "source": [
    "# Добавим лаг в датасету\n",
    "y['lag_3Mrate'] = y['3Mrate'].shift()\n",
    "y.corr()"
   ]
  }
 ],
 "metadata": {
  "kernelspec": {
   "display_name": "base",
   "language": "python",
   "name": "python3"
  },
  "language_info": {
   "codemirror_mode": {
    "name": "ipython",
    "version": 3
   },
   "file_extension": ".py",
   "mimetype": "text/x-python",
   "name": "python",
   "nbconvert_exporter": "python",
   "pygments_lexer": "ipython3",
   "version": "3.12.3"
  }
 },
 "nbformat": 4,
 "nbformat_minor": 2
}
