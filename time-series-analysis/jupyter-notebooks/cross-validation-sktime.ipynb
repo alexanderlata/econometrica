{
 "cells": [
  {
   "cell_type": "markdown",
   "metadata": {},
   "source": [
    "# Кросс-валидация для временных рядов (пакет [`sktime`](https://www.sktime.net/en/stable/))\n",
    "\n",
    "Рассмотрим на примере модели ARIMA"
   ]
  },
  {
   "cell_type": "code",
   "execution_count": null,
   "metadata": {
    "tags": []
   },
   "outputs": [],
   "source": [
    "import numpy as np\n",
    "import pandas as pd\n",
    "\n",
    "# Модель для прогнозирования, например ARIMA\n",
    "from sktime.forecasting.arima import ARIMA\n",
    "# Визуализация временных рядов\n",
    "from sktime.utils.plotting import plot_series\n",
    "# Модули для кросс-валидации\n",
    "from sktime.split import temporal_train_test_split, ExpandingWindowSplitter, SlidingWindowSplitter, SingleWindowSplitter\n",
    "from sktime.forecasting.model_evaluation import evaluate\n",
    "from sktime.performance_metrics.forecasting import MeanSquaredError, MeanAbsoluteError, MeanAbsolutePercentageError # Метрики MSE, MAE, MAPE\n",
    "\n",
    "import pandas_datareader.data as web\n",
    "\n",
    "# настройки визуализации\n",
    "import matplotlib.pyplot as plt\n",
    "\n",
    "# Не показывать Warnings\n",
    "import warnings\n",
    "warnings.simplefilter(action='ignore', category=Warning)\n",
    "# Не показывать ValueWarning, ConvergenceWarning из statsmodels\n",
    "from statsmodels.tools.sm_exceptions import ValueWarning, ConvergenceWarning\n",
    "warnings.simplefilter('ignore', category=ValueWarning)\n",
    "warnings.simplefilter('ignore', category=ConvergenceWarning)"
   ]
  },
  {
   "cell_type": "markdown",
   "metadata": {},
   "source": [
    "Загрузим из БД [`FRED`](https://fred.stlouisfed.org/) месячные данные по Market Yield on U.S. Treasury Securities at 10-Year Constant Maturity (Symbol [`GS10`](https://fred.stlouisfed.org/series/GS10)) с 2000-01-01 по 2023-12-31 и создадим датафрейм `y`"
   ]
  },
  {
   "cell_type": "code",
   "execution_count": null,
   "metadata": {
    "tags": []
   },
   "outputs": [],
   "source": [
    "y = web.DataReader(name='GS10', data_source='fred', start='2000-01', end='2023-12')\n",
    "y.index = pd.period_range(start='2000-01', end='2023-12', freq='M')\n",
    "# длина ряда\n",
    "len(y)"
   ]
  },
  {
   "cell_type": "markdown",
   "metadata": {},
   "source": [
    "## Валидация через разделение на обучающую и тестовую выборки\n",
    "\n",
    "Используем метод [`temporal_train_test_split`](https://www.sktime.net/en/stable/api_reference/auto_generated/sktime.split.temporal_train_test_split.html) из пакета `sktime`\n",
    "\n",
    "Разделим ряда на обучающую выбору (первые, например 80%, наблюдений) и тестовую выборку (последние, нашем случае 20%, наблюдений)\n",
    "\n",
    "В качестве метрики выберем [`MeanSquaredError`](https://www.sktime.net/en/stable/api_reference/auto_generated/sktime.performance_metrics.forecasting.MeanSquaredError.html)\n",
    "\n",
    "Разберём на примере ARIMA(2,1,2)"
   ]
  },
  {
   "cell_type": "code",
   "execution_count": null,
   "metadata": {
    "tags": []
   },
   "outputs": [],
   "source": [
    "# специфицируем модель для прогнозирования, например ARIMA(2,1,2)\n",
    "forecaster = ARIMA(order=(2,1,2), trend='n')\n",
    "\n",
    "# разбиваем выбору на обучающую и тестовую (последние 10 наблюдений)\n",
    "y_train, y_test = temporal_train_test_split(y, test_size=10)\n",
    "\n",
    "# Обучаем модель на тестовом множестве\n",
    "forecaster.fit(y_train)\n",
    "\n",
    "# прогнозируем для тестовых наблюдений\n",
    "y_pred = forecaster.predict(fh = y_test.index)\n",
    "\n",
    "# инициализируем метрику\n",
    "metric = MeanSquaredError(square_root=False)\n",
    "# вычисляем метрику на данных\n",
    "metric.evaluate(y_test, y_pred)"
   ]
  },
  {
   "cell_type": "code",
   "execution_count": null,
   "metadata": {
    "tags": []
   },
   "outputs": [],
   "source": [
    "plot_series(y_train, y_test, y_pred, labels=['train', 'test', 'pred'])\n",
    "\n",
    "plt.show()"
   ]
  },
  {
   "cell_type": "markdown",
   "metadata": {},
   "source": [
    "Используем  [`SingleWindowSplitter`](https://www.sktime.net/en/stable/api_reference/auto_generated/sktime.split.SingleWindowSplitter.html) \n",
    "\n",
    "Для вычисления метрики для каждого фолда используем метод [`MeanSquaredError`](https://www.sktime.net/en/stable/api_reference/auto_generated/sktime.performance_metrics.forecasting.MeanSquaredError.html), [`MeanAbsoluteError`](https://www.sktime.net/en/stable/api_reference/auto_generated/sktime.performance_metrics.forecasting.MeanAbsoluteError.html), [`MeanAbsolutePercentageError`](https://www.sktime.net/en/stable/api_reference/auto_generated/sktime.performance_metrics.forecasting.MeanAbsolutePercentageError.html#sktime.performance_metrics.forecasting.MeanAbsolutePercentageError)\n",
    "\n",
    "Для проведения кросс-валидации используем [`evaluate`](https://www.sktime.net/en/stable/api_reference/auto_generated/sktime.forecasting.model_evaluation.evaluate.html)\n",
    "\n",
    "Разберём на примере ARMA(2,1,2) без сноса"
   ]
  },
  {
   "cell_type": "code",
   "execution_count": null,
   "metadata": {
    "tags": []
   },
   "outputs": [],
   "source": [
    "# специфицируем модель для прогнозирования, например ARIMA(2,1,2) без сноса\n",
    "forecaster = ARIMA(order=(2,1,2), trend='n')\n",
    "\n",
    "# разбиваем выбору на обучающую (первые 150) и тестовую\n",
    "cv = SingleWindowSplitter(fh=np.arange(1, len(y)-150+1), window_length=150)\n",
    "\n",
    "# инициализируем метрики\n",
    "metric = [MeanSquaredError(square_root=False), MeanAbsoluteError(), MeanAbsolutePercentageError()]\n",
    "\n",
    "df = evaluate(forecaster=forecaster, y=y, cv=cv, strategy=\"refit\", return_data=False, scoring=metric)\n",
    "df"
   ]
  },
  {
   "cell_type": "code",
   "execution_count": null,
   "metadata": {
    "tags": []
   },
   "outputs": [],
   "source": [
    "# MSE, MAE, MAPE\n",
    "df.iloc[:,:len(metric)]"
   ]
  },
  {
   "cell_type": "markdown",
   "metadata": {},
   "source": [
    "## Валидация методом k-Fold (расширяем обучающую выборку)\n",
    "\n",
    "Используем  [`ExpandingWindowSplitter`](https://www.sktime.net/en/stable/api_reference/auto_generated/sktime.split.ExpandingWindowSplitter.html) \n",
    "\n",
    "Для вычисления метрики для каждого фолда используем метод [`MeanSquaredError`](https://www.sktime.net/en/stable/api_reference/auto_generated/sktime.performance_metrics.forecasting.MeanSquaredError.html), [`MeanAbsoluteError`](https://www.sktime.net/en/stable/api_reference/auto_generated/sktime.performance_metrics.forecasting.MeanAbsoluteError.html), [`MeanAbsolutePercentageError`](https://www.sktime.net/en/stable/api_reference/auto_generated/sktime.performance_metrics.forecasting.MeanAbsolutePercentageError.html#sktime.performance_metrics.forecasting.MeanAbsolutePercentageError)\n",
    "\n",
    "Для проведения кросс-валидации используем [`evaluate`](https://www.sktime.net/en/stable/api_reference/auto_generated/sktime.forecasting.model_evaluation.evaluate.html)\n",
    "\n",
    "Разберём на примере ARIMA(2,1,2) без сноса"
   ]
  },
  {
   "cell_type": "code",
   "execution_count": null,
   "metadata": {
    "tags": []
   },
   "outputs": [],
   "source": [
    "# специфицируем модель для прогнозирования, например ARIMA(2,1,2) без сноса\n",
    "forecaster = ARIMA(order=(2,1,2), trend='n')\n",
    "\n",
    "# разбиваем выбору на обучающую (начинаем с первых 100) и тестовую длины 10\n",
    "cv = ExpandingWindowSplitter(fh=np.arange(1, 11), initial_window=100, step_length=10)\n",
    "\n",
    "# инициализируем метрики\n",
    "metric = [MeanSquaredError(square_root=False), MeanAbsoluteError(), MeanAbsolutePercentageError()]\n",
    "\n",
    "df = evaluate(forecaster=forecaster, y=y, cv=cv, strategy=\"refit\", return_data=False, scoring=metric)\n",
    "df"
   ]
  },
  {
   "cell_type": "code",
   "execution_count": null,
   "metadata": {
    "tags": []
   },
   "outputs": [],
   "source": [
    "# средняя MSE, MAE, MAPE\n",
    "df.iloc[:,:len(metric)].mean()"
   ]
  },
  {
   "cell_type": "markdown",
   "metadata": {},
   "source": [
    "## Валидация методом k-Fold (скользящая обучающая выборка)\n",
    "\n",
    "Используем метод [`SlidingWindowSplitter`](https://www.sktime.net/en/stable/api_reference/auto_generated/sktime.split.SlidingWindowSplitter.html)\n",
    "\n",
    "Для вычисления метрики для каждого фолда используем метод [`MeanSquaredError`](https://www.sktime.net/en/stable/api_reference/auto_generated/sktime.performance_metrics.forecasting.MeanSquaredError.html), [`MeanAbsoluteError`](https://www.sktime.net/en/stable/api_reference/auto_generated/sktime.performance_metrics.forecasting.MeanAbsoluteError.html), [`MeanAbsolutePercentageError`](https://www.sktime.net/en/stable/api_reference/auto_generated/sktime.performance_metrics.forecasting.MeanAbsolutePercentageError.html#sktime.performance_metrics.forecasting.MeanAbsolutePercentageError)\n",
    "\n",
    "Для проведения кросс-валидации используем [`evaluate`](https://www.sktime.net/en/stable/api_reference/auto_generated/sktime.forecasting.model_evaluation.evaluate.html)\n",
    "\n",
    "Разберём на примере ARIMA(2,1,2) без сноса"
   ]
  },
  {
   "cell_type": "code",
   "execution_count": null,
   "metadata": {
    "tags": []
   },
   "outputs": [],
   "source": [
    "# специфицируем модель для прогнозирования, например ARIMA(2,1,2) без сноса\n",
    "forecaster = ARIMA(order=(2,1,2), trend='n')\n",
    "\n",
    "# разбиваем выбору на обучающую (длины) 100) и тестовую (лины 10)\n",
    "cv = SlidingWindowSplitter(fh=np.arange(1, 11), initial_window=100, step_length=10)\n",
    "\n",
    "# инициализируем метрики\n",
    "metric = [MeanSquaredError(square_root=False), MeanAbsoluteError(), MeanAbsolutePercentageError()]\n",
    "\n",
    "df = evaluate(forecaster=forecaster, y=y, cv=cv, strategy=\"refit\", return_data=False, scoring=metric)\n",
    "df"
   ]
  },
  {
   "cell_type": "code",
   "execution_count": null,
   "metadata": {
    "tags": []
   },
   "outputs": [],
   "source": [
    "# средняя MSE, MAE, MAPE\n",
    "df.iloc[:,:len(metric)].mean()"
   ]
  },
  {
   "cell_type": "markdown",
   "metadata": {},
   "source": [
    "## Кросс валидация для нескольких моделей\n",
    "\n",
    "Проведём кросс-валидацию для сравнения нескольких моделей. Например, сравним\n",
    "* ARIMA(1,1,1) без сноса\n",
    "* ARIMA(1,1,1) со сносом\n",
    "* ARIMA(1,2,1) без сноса"
   ]
  },
  {
   "cell_type": "code",
   "execution_count": null,
   "metadata": {},
   "outputs": [],
   "source": [
    "# Зададим список из специфицированных моделей прогнозирования\n",
    "forecasters = [ARIMA(order=(1,1,1), trend='n'), ARIMA(order=(1,1,1), trend='c'), ARIMA(order=(1,2,1), trend='n')]\n",
    "\n",
    "# специфицируем метод кросс-валидации. Например, SlidingWindowSplitter\n",
    "cv = SlidingWindowSplitter(fh=np.arange(1, 6), initial_window=100, step_length=5)\n",
    "\n",
    "# инициализируем метрики\n",
    "metric = [MeanSquaredError(square_root=False), MeanAbsoluteError(), MeanAbsolutePercentageError()]\n",
    "\n",
    "# датафрейм с метриками по столбцам\n",
    "cv_data = pd.DataFrame(data=None, columns=['MSE', 'MAE', 'MAPE'])\n",
    "\n",
    "for model in forecasters:\n",
    "\tprint(model)\n",
    "\tdf = evaluate(forecaster=model, y=y, cv=cv, strategy=\"refit\", return_data=False, scoring=metric)\n",
    "\tprint(df.iloc[:,:len(metric)].mean())\n",
    "\tcv_data.loc[len(cv_data.index)] = df.iloc[:,[0,1,2]].mean().values"
   ]
  },
  {
   "cell_type": "code",
   "execution_count": null,
   "metadata": {},
   "outputs": [],
   "source": [
    "# результаты кросс-валидации в виде датафрейма\n",
    "cv_data"
   ]
  },
  {
   "cell_type": "code",
   "execution_count": null,
   "metadata": {},
   "outputs": [],
   "source": [
    "# Индекс модели\n",
    "for i in range(cv_data.shape[1]):\n",
    "\tprint(f'{cv_data.columns[i]}: model #={cv_data.iloc[:,i].argmin()}')"
   ]
  }
 ],
 "metadata": {
  "kernelspec": {
   "display_name": "base",
   "language": "python",
   "name": "python3"
  },
  "language_info": {
   "codemirror_mode": {
    "name": "ipython",
    "version": 3
   },
   "file_extension": ".py",
   "mimetype": "text/x-python",
   "name": "python",
   "nbconvert_exporter": "python",
   "pygments_lexer": "ipython3",
   "version": "3.12.9"
  }
 },
 "nbformat": 4,
 "nbformat_minor": 4
}
