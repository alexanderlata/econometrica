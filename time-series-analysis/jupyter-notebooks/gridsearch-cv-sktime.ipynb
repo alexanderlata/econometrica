{
 "cells": [
  {
   "cell_type": "markdown",
   "metadata": {},
   "source": [
    "# Grid Search CV"
   ]
  },
  {
   "cell_type": "code",
   "execution_count": null,
   "metadata": {},
   "outputs": [],
   "source": [
    "import numpy as np\n",
    "import pandas as pd\n",
    "\n",
    "# Модель для прогнозирования, например ARIMA\n",
    "from sktime.forecasting.arima import ARIMA\n",
    "# Визуализация временных рядов\n",
    "from sktime.utils.plotting import plot_series\n",
    "# Модули для кросс-валидации\n",
    "from sktime.split import temporal_train_test_split, ExpandingWindowSplitter, SlidingWindowSplitter, SingleWindowSplitter\n",
    "from sktime.forecasting.model_evaluation import evaluate\n",
    "from sktime.performance_metrics.forecasting import MeanSquaredError, MeanAbsoluteError, MeanAbsolutePercentageError # Метрики MSE, MAE, MAPE\n",
    "# Поиск оптимальных гиперпараметров по сетке\n",
    "from sktime.forecasting.model_selection import ForecastingGridSearchCV\n",
    "\n",
    "import pandas_datareader.data as web\n",
    "\n",
    "# настройки визуализации\n",
    "import matplotlib.pyplot as plt\n",
    "\n",
    "# Не показывать Warnings\n",
    "import warnings\n",
    "warnings.simplefilter(action='ignore', category=Warning)\n",
    "# Не показывать ValueWarning, ConvergenceWarning из statsmodels\n",
    "from statsmodels.tools.sm_exceptions import ValueWarning, ConvergenceWarning\n",
    "warnings.simplefilter('ignore', category=ValueWarning)\n",
    "warnings.simplefilter('ignore', category=ConvergenceWarning)"
   ]
  },
  {
   "cell_type": "markdown",
   "metadata": {},
   "source": [
    "Загрузим из БД [`FRED`](https://fred.stlouisfed.org/) месячные данные по Market Yield on U.S. Treasury Securities at 10-Year Constant Maturity (Symbol [`GS10`](https://fred.stlouisfed.org/series/GS10)) с 2000-01-01 по н.в. и создадим датафрейм `y`"
   ]
  },
  {
   "cell_type": "code",
   "execution_count": null,
   "metadata": {},
   "outputs": [],
   "source": [
    "y = web.DataReader(name='GS10', data_source='fred', start='2000-01')\n",
    "y.index = y.index.to_period(freq='M')"
   ]
  },
  {
   "cell_type": "markdown",
   "metadata": {},
   "source": [
    "Поиск оптимальных (гипер)парамеров модели по стеке"
   ]
  },
  {
   "cell_type": "code",
   "execution_count": null,
   "metadata": {},
   "outputs": [],
   "source": [
    "# Зададим метод прогнозирования\n",
    "forecaster = ARIMA()\n",
    "\n",
    "# разбиваем параметры кросс-валидации\n",
    "cv_strategy = ExpandingWindowSplitter(fh=np.arange(1, 11), initial_window=100, step_length=10)\n",
    "\n",
    "# Задаём сетку для значений параметров модели в виде словаря\n",
    "# будем менять параметры order и trend\n",
    "param_grid = {'order':[(0,1,0), (1,1,0), (0,1,1)], 'trend': ['c', 'c', 'ct']}\n",
    "\n",
    "# инициализируем метрики\n",
    "metric = MeanSquaredError(square_root=False)\n",
    "\n",
    "# Grid search\n",
    "gscv = ForecastingGridSearchCV(forecaster=forecaster, param_grid=param_grid, cv=cv_strategy, scoring=metric)\n",
    "\n",
    "gscv.fit(y)"
   ]
  },
  {
   "cell_type": "code",
   "execution_count": null,
   "metadata": {},
   "outputs": [],
   "source": [
    "# Параметры оптимальной модели\n",
    "gscv.get_fitted_params()['best_forecaster']"
   ]
  }
 ],
 "metadata": {
  "kernelspec": {
   "display_name": "base",
   "language": "python",
   "name": "python3"
  },
  "language_info": {
   "codemirror_mode": {
    "name": "ipython",
    "version": 3
   },
   "file_extension": ".py",
   "mimetype": "text/x-python",
   "name": "python",
   "nbconvert_exporter": "python",
   "pygments_lexer": "ipython3",
   "version": "3.12.9"
  }
 },
 "nbformat": 4,
 "nbformat_minor": 2
}
