{
 "cells": [
  {
   "cell_type": "code",
   "execution_count": null,
   "id": "72f6feba",
   "metadata": {},
   "outputs": [],
   "source": [
    "import numpy as np\n",
    "import pandas as pd\n",
    "\n",
    "from statsmodels.tsa.api import STLForecast, ARIMA\n",
    "\n",
    "import pandas_datareader.data as web\n",
    "\n",
    "# настройки визуализация\n",
    "import matplotlib.pyplot as plt\n",
    "\n",
    "# Не показывать Warnings\n",
    "import warnings\n",
    "warnings.simplefilter(action='ignore', category=Warning)\n",
    "# Не показывать ValueWarning, ConvergenceWarning из statsmodels\n",
    "from statsmodels.tools.sm_exceptions import ValueWarning, ConvergenceWarning\n",
    "warnings.simplefilter('ignore', category=ValueWarning)\n",
    "warnings.simplefilter('ignore', category=ConvergenceWarning)"
   ]
  },
  {
   "cell_type": "code",
   "execution_count": null,
   "id": "65ace9a9",
   "metadata": {},
   "outputs": [],
   "source": [
    "z = web.DataReader(name='NA000334Q', data_source='fred', start='1990-01-01')\n",
    "y = np.log(z)"
   ]
  },
  {
   "cell_type": "code",
   "execution_count": null,
   "id": "fa1e1398",
   "metadata": {},
   "outputs": [],
   "source": [
    "stlf = STLForecast(y, model=ARIMA, model_kwargs={\"order\": (1, 1, 1), 'trend': 't'})\n",
    "res = stlf.fit()"
   ]
  },
  {
   "cell_type": "code",
   "execution_count": null,
   "id": "e14c92b3",
   "metadata": {},
   "outputs": [],
   "source": [
    "res.forecast(5)"
   ]
  },
  {
   "cell_type": "code",
   "execution_count": null,
   "id": "91370f2a",
   "metadata": {},
   "outputs": [],
   "source": [
    "plt.plot(y)\n",
    "plt.plot(res.forecast(10))\n",
    "plt.show()"
   ]
  }
 ],
 "metadata": {
  "kernelspec": {
   "display_name": "base",
   "language": "python",
   "name": "python3"
  },
  "language_info": {
   "codemirror_mode": {
    "name": "ipython",
    "version": 3
   },
   "file_extension": ".py",
   "mimetype": "text/x-python",
   "name": "python",
   "nbconvert_exporter": "python",
   "pygments_lexer": "ipython3",
   "version": "3.12.10"
  }
 },
 "nbformat": 4,
 "nbformat_minor": 5
}
