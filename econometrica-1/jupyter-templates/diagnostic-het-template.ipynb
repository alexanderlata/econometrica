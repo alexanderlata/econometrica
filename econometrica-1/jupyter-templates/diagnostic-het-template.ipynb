{
 "cells": [
  {
   "cell_type": "markdown",
   "metadata": {},
   "source": [
    "# Диагностика модели: тесты на гетероскедастичность"
   ]
  },
  {
   "cell_type": "code",
   "execution_count": null,
   "metadata": {},
   "outputs": [],
   "source": [
    "import pandas as pd\n",
    "import numpy as np\n",
    "\n",
    "from statsmodels.formula.api import ols\n",
    "from statsmodels.stats.diagnostic import het_breuschpagan, het_white # тесты на гетероскедастичность\n",
    "\n",
    "from scipy.stats import chi2 # chi2-распределение и критические значения\n",
    "\n",
    "# Не показывать Warning\n",
    "import warnings\n",
    "warnings.simplefilter(action='ignore', category=Warning)"
   ]
  },
  {
   "cell_type": "markdown",
   "metadata": {},
   "source": [
    "Рассмотрим регрессию\n",
    "\n",
    "$$\n",
    "\t\\text{наберите уравнение регрессии}\n",
    "$$"
   ]
  },
  {
   "cell_type": "code",
   "execution_count": null,
   "metadata": {},
   "outputs": [],
   "source": [
    "# загрузим данные\n",
    "df = pd.read_csv('Filename.csv')"
   ]
  },
  {
   "cell_type": "markdown",
   "metadata": {},
   "source": [
    "## Спецификация и подгонка"
   ]
  },
  {
   "cell_type": "code",
   "execution_count": null,
   "metadata": {},
   "outputs": [],
   "source": [
    "# спецификация модели через формулу\n",
    "mod = ols(formula = 'your specification', data=df)\n",
    "# подгонка модели с ковариационной матрицей по умолчанию (неробастной)\n",
    "res = mod.fit()"
   ]
  },
  {
   "cell_type": "markdown",
   "metadata": {},
   "source": [
    "## BP-тест\n",
    "\n",
    "Тестируем зависимость дисперсии ошибки от регрессоров модели. В качестве аргумента `exog_het` возьмём матрицу регрессивного дизайна $X$"
   ]
  },
  {
   "cell_type": "code",
   "execution_count": null,
   "metadata": {},
   "outputs": [],
   "source": [
    "lm, lm_pvalue, fvalue, f_pvalue = het_breuschpagan(resid=res.resid, exog_het=mod.exog)\n",
    "# LM-статистика и её P-значение \n",
    "lm, lm_pvalue"
   ]
  },
  {
   "cell_type": "code",
   "execution_count": null,
   "metadata": {},
   "outputs": [],
   "source": [
    "# Задаём уровень значимости\n",
    "sign_level = \n",
    "# Критическое значение распределения chi2\n",
    "chi2.isf(q=sign_level, df=mod.df_model)"
   ]
  },
  {
   "cell_type": "markdown",
   "metadata": {},
   "source": [
    "## Вывод"
   ]
  },
  {
   "cell_type": "markdown",
   "metadata": {},
   "source": [
    "ваш вывод"
   ]
  },
  {
   "cell_type": "markdown",
   "metadata": {},
   "source": [
    "## White-тест"
   ]
  },
  {
   "cell_type": "code",
   "execution_count": null,
   "metadata": {},
   "outputs": [],
   "source": [
    "lm, lm_pvalue, fvalue, f_pvalue = het_white(resid=res.resid, exog=mod.exog)\n",
    "# LM-статистика и её P-значение \n",
    "lm, lm_pvalue"
   ]
  },
  {
   "cell_type": "markdown",
   "metadata": {},
   "source": [
    "## Критическое значение $\\chi^2$-распределения"
   ]
  },
  {
   "cell_type": "code",
   "execution_count": null,
   "metadata": {},
   "outputs": [],
   "source": [
    "# Задаём уровень значимости\n",
    "sign_level = \n",
    "# Найдем степени свободы\n",
    "k = mod.df_model # число регрессоров\n",
    "df_white = 2 * k + k * (k-1) / 2\n",
    "# Критическое значение распределения chi2\n",
    "chi2.isf(q=sign_level, df=df_white)"
   ]
  },
  {
   "cell_type": "markdown",
   "metadata": {},
   "source": [
    "## Вывод\n",
    "\n",
    "ваш вывод"
   ]
  }
 ],
 "metadata": {
  "kernelspec": {
   "display_name": "base",
   "language": "python",
   "name": "python3"
  },
  "language_info": {
   "codemirror_mode": {
    "name": "ipython",
    "version": 3
   },
   "file_extension": ".py",
   "mimetype": "text/x-python",
   "name": "python",
   "nbconvert_exporter": "python",
   "pygments_lexer": "ipython3",
   "version": "3.12.3"
  }
 },
 "nbformat": 4,
 "nbformat_minor": 2
}
