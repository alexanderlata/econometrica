{
 "cells": [
  {
   "cell_type": "markdown",
   "id": "5d687fde",
   "metadata": {},
   "source": [
    "# Линейная регрессия: t-тест"
   ]
  },
  {
   "cell_type": "code",
   "execution_count": null,
   "id": "d9fa721f",
   "metadata": {},
   "outputs": [],
   "source": [
    "import pandas as pd\n",
    "import numpy as np\n",
    "\n",
    "from statsmodels.formula.api import ols\n",
    "from statsmodels.iolib.summary2 import summary_params, summary_col # вывод результатов тестирования\n",
    "\n",
    "from scipy.stats import t # t-распределение и критические значения\n",
    "\n",
    "# Не показывать Warnings\n",
    "import warnings\n",
    "warnings.simplefilter(action='ignore', category=Warning)"
   ]
  },
  {
   "cell_type": "markdown",
   "id": "20df6f9c",
   "metadata": {},
   "source": [
    "## t-тест: значимость коэффициентов\n",
    "\n",
    "<div style=\"background-color:Bisque; color:DarkBlue; padding:30px;\">\n",
    "\n",
    "Тестируем нулевую гипотезу $H_0:\\beta=0$\n",
    "\n",
    "Альтернативная гипотеза $H_1:\\beta\\ne 0$\n",
    "\n",
    "Тестовая статистика $$t=\\frac{\\hat{\\beta}}{s.e.(\\beta)}$$\n",
    "\n",
    "Критическое значение $t_{cr}=t_{df}(\\alpha)$, где  $df=n-k-1$ --- степени свободы для t-распределения\n",
    "\n",
    "$\\color{purple}{\\text{\\textbf{Значим ли коэффициент} }\\beta ?}$\n",
    "\n",
    "**<span style=\"color:purple\">Способ 1:</span>** используем $t-value$\n",
    "\n",
    "* Отвергаем гипотезу $H_0$ при $|t|>t_{cr}$, <i><b><span style=\"color: purple\">коэффициент значим</span></b><br>\n",
    "* Не отвергаем гипотезу $H_0$ при $|t|<t_{cr}$, <i><b><span style=\"color: purple\">коэффициент незначим</span> </b><br>\n",
    "\n",
    "**<span style=\"color:purple\">Способ 2:</span>** используем $P-value$\n",
    "\n",
    "* Отвергаем гипотезу $H_0$  при $P<\\alpha$, <i><b><span style=\"color: purple\">коэффициент значим</span> </b><br>\n",
    "* Не отвергаем гипотезу $H_0$ при $P>\\alpha$, <i><b><span style=\"color: purple\">коэффициент незначим</span> </b><br>\n",
    "\n",
    "---\n",
    "\n",
    "<i><b><span style=\"color: purple\">Сравниваем самостоятельно или автоматизированно</span> <br>\n",
    "\n",
    "<span style=\"color:#59afe1\">ОБЯЗАТЕЛЬНО ПЕЧАТАЕМ ВЫВОД</span></b>\n",
    "\n",
    "---\n",
    "\n",
    "</div>"
   ]
  },
  {
   "cell_type": "markdown",
   "id": "7bb176c9",
   "metadata": {},
   "source": [
    "Для набора данных `sleep75` рассмотрим линейную регрессию\n",
    "\n",
    "$$\n",
    "    sleep = \\beta_0+\\beta_1 totwrk+\\beta_2 age+\\beta_3 south+\\beta_4 male+\\beta_5 smsa+\\beta_6 yngkid+\\beta_7 marr+\\beta_8 union+\\beta_9 \\log(hrwage)+error\n",
    "$$"
   ]
  },
  {
   "cell_type": "code",
   "execution_count": null,
   "id": "9d5237e2",
   "metadata": {},
   "outputs": [],
   "source": [
    "# импорт данных\n",
    "df = pd.read_csv('sleep75.csv')"
   ]
  },
  {
   "cell_type": "markdown",
   "id": "956b544f",
   "metadata": {},
   "source": [
    "## Спецификация и подгонка"
   ]
  },
  {
   "cell_type": "code",
   "execution_count": null,
   "id": "6a6e8e54",
   "metadata": {},
   "outputs": [],
   "source": [
    "# спецификация модели через формулу\n",
    "mod = ols(formula='sleep~totwrk+age+south+male+smsa+yngkid+marr+union+np.log(hrwage)', data=df)\n",
    "# подгонка модели\n",
    "res = mod.fit()"
   ]
  },
  {
   "cell_type": "code",
   "execution_count": null,
   "id": "a50f8456",
   "metadata": {},
   "outputs": [],
   "source": [
    "# Общий отчет\n",
    "res.summary(slim=True)"
   ]
  },
  {
   "cell_type": "markdown",
   "id": "6a0e0790",
   "metadata": {},
   "source": [
    "## Гипотеза\n",
    "\n",
    "Тестируем значимость коэффициента $\\beta_{age}$, т.е. гипотезу $H_0: \\beta_{age} = 0$"
   ]
  },
  {
   "cell_type": "markdown",
   "id": "8ee725a4",
   "metadata": {},
   "source": [
    "## Уровень значимости\n",
    "Пусть уровень значимости $\\alpha=5\\%=0.05$"
   ]
  },
  {
   "cell_type": "markdown",
   "id": "cc2146a1",
   "metadata": {},
   "source": [
    "Число наблюдений $n$, по которым была оценена модель"
   ]
  },
  {
   "cell_type": "code",
   "execution_count": null,
   "id": "f48df642",
   "metadata": {},
   "outputs": [],
   "source": [
    "# Число наблюдений, по которым была оценена модель\n",
    "res.nobs"
   ]
  },
  {
   "cell_type": "markdown",
   "id": "33bfa693",
   "metadata": {},
   "source": [
    "Число регрессоров $k$, по которым была оценена модель"
   ]
  },
  {
   "cell_type": "code",
   "execution_count": null,
   "id": "c30b0391",
   "metadata": {},
   "outputs": [],
   "source": [
    "# Число регрессоров, по которым была оценена модель\n",
    "res.df_model"
   ]
  },
  {
   "cell_type": "markdown",
   "id": "9dc19be7",
   "metadata": {},
   "source": [
    "Степени свободы для t-распределения $df=n-k-1$"
   ]
  },
  {
   "cell_type": "code",
   "execution_count": null,
   "id": "be849d24",
   "metadata": {},
   "outputs": [],
   "source": [
    "# Степени свободы для t-распределения\n",
    "res.df_resid"
   ]
  },
  {
   "cell_type": "markdown",
   "id": "4836a520",
   "metadata": {},
   "source": [
    "### Составляющие t-теста для коэффициентов"
   ]
  },
  {
   "cell_type": "code",
   "execution_count": null,
   "id": "57bc3ee3",
   "metadata": {},
   "outputs": [],
   "source": [
    "# стандартные ошибки s.e.(beta) для каждого коэффициента с округлением\n",
    "res.bse.round(3)"
   ]
  },
  {
   "cell_type": "code",
   "execution_count": null,
   "id": "a96b53f2",
   "metadata": {},
   "outputs": [],
   "source": [
    "# тестовые t-статистики для каждого коэффициента с округлением\n",
    "res.tvalues.round(3)"
   ]
  },
  {
   "cell_type": "code",
   "execution_count": null,
   "id": "9ac33508",
   "metadata": {},
   "outputs": [],
   "source": [
    "# P-значения для t-статистик с округлением\n",
    "res.pvalues.round(4)"
   ]
  },
  {
   "cell_type": "code",
   "execution_count": null,
   "id": "8b1645ff",
   "metadata": {},
   "outputs": [],
   "source": [
    "# Составляющие t-теста для коэффициента(ов) в одной таблице\n",
    "summary_params(res).round(3)"
   ]
  },
  {
   "cell_type": "markdown",
   "id": "3734d8a7",
   "metadata": {},
   "source": [
    "## Критическое значение t-распределения"
   ]
  },
  {
   "cell_type": "code",
   "execution_count": null,
   "id": "3d778daf",
   "metadata": {},
   "outputs": [],
   "source": [
    "# уровень значимости\n",
    "sign_level = 0.05\n",
    "# критическое значение t-распределения\n",
    "t_cr = t.isf(sign_level/2, df=res.df_resid).round(3)\n",
    "t_cr"
   ]
  },
  {
   "cell_type": "markdown",
   "id": "c45dad9b",
   "metadata": {},
   "source": [
    "**<span style=\"color:#59afe1\">ВЫВОД</span>**: На уровне значимости 5% значим коэффициент при `age`"
   ]
  },
  {
   "cell_type": "markdown",
   "id": "9e9148fb",
   "metadata": {},
   "source": [
    "## Какие коэффиценты значимы?"
   ]
  },
  {
   "cell_type": "markdown",
   "id": "50527cbd",
   "metadata": {},
   "source": [
    "## Значимость всех коэффициентов\n",
    "\n",
    "- проверяем значимость коэффициентов используя P-value (сравниваем самостоятельно или автоматизированно)\n",
    "\n",
    "- проверяем значимость коэффициентов используя t_cr (сравниваем самостоятельно или автоматизированно)\n",
    "\n",
    "**<span style=\"color:#59afe1\">ОБЯЗАТЕЛЬНО ПЕЧАТАЕМ ВЫВОД</span>**"
   ]
  },
  {
   "cell_type": "code",
   "execution_count": null,
   "id": "ca996617",
   "metadata": {},
   "outputs": [],
   "source": [
    "# проверим значимость коэффициентов используя P-value\n",
    "df_sign = summary_params(res, alpha=sign_level).round(3)\n",
    "df_sign['significance'] = df_sign.apply(lambda x: 'Значим' if x['P>|t|']<sign_level else 'Незначим', axis=1)\n",
    "df_sign"
   ]
  },
  {
   "cell_type": "markdown",
   "id": "06afdd69",
   "metadata": {},
   "source": [
    "**<span style=\"color:#59afe1\">ВЫВОД</span>**: На уровне значимости 5% значим коэффициент при `totwrk`"
   ]
  },
  {
   "cell_type": "code",
   "execution_count": null,
   "id": "a47766b2",
   "metadata": {},
   "outputs": [],
   "source": [
    "# проверим значимость коэффициентов используя t_cr\n",
    "df_sign = summary_params(res, alpha=sign_level).round(3)\n",
    "df_sign['significance'] = df_sign.apply(lambda x: 'Значим' if np.abs(x['t'])>t_cr else 'Незначим', axis=1)\n",
    "df_sign"
   ]
  },
  {
   "cell_type": "markdown",
   "id": "9ff1c74e",
   "metadata": {},
   "source": [
    "**<span style=\"color:#59afe1\">ВЫВОД</span>**: На уровне значимости 5% значим коэффициент при `totwrk`"
   ]
  },
  {
   "cell_type": "markdown",
   "id": "495f9bf9",
   "metadata": {},
   "source": [
    "## Значимость выбранных коэффициентов\n",
    "Потестируем значимость коэффициентов $\\beta_{totwrk}$ и $\\beta_{male}$ на уровне значимости 5%"
   ]
  },
  {
   "cell_type": "code",
   "execution_count": null,
   "id": "9e850fd9",
   "metadata": {},
   "outputs": [],
   "source": [
    "res.t_test('totwrk=0, male=0')"
   ]
  },
  {
   "cell_type": "markdown",
   "id": "ed1e0853",
   "metadata": {},
   "source": [
    "## Критическое значение t-распределения"
   ]
  },
  {
   "cell_type": "code",
   "execution_count": null,
   "id": "fffc74cb",
   "metadata": {},
   "outputs": [],
   "source": [
    "# уровень значимости\n",
    "sign_level = 0.05\n",
    "# 5%-критическое значение t-распределения\n",
    "t_cr = t.isf(q=sign_level/2, df=res.df_resid).round(3)\n",
    "t_cr"
   ]
  },
  {
   "cell_type": "markdown",
   "id": "f98eebbc",
   "metadata": {},
   "source": [
    "**<span style=\"color:#59afe1\">ВЫВОД</span>**: На уровне значимости 5% значим коэффициент при `totwrk`"
   ]
  },
  {
   "cell_type": "markdown",
   "id": "9c6dec1f",
   "metadata": {},
   "source": [
    "---"
   ]
  },
  {
   "cell_type": "markdown",
   "id": "42dee16e",
   "metadata": {},
   "source": [
    "# Общий t-тест\n",
    "\n",
    "<div style=\"background-color:Bisque; color:DarkBlue; padding:30px;\">\n",
    "\n",
    "Тестируем $H_0:\\beta=\\theta$ ($\\theta$ - заданное число)\n",
    "\n",
    "Тестовая статистика $$t=\\frac{\\hat{\\beta}-\\theta}{s.e.(\\beta)}$$\n",
    "\n",
    "Критическое значение $t_{cr}=t_{df}(\\alpha)$, где  $df=n-k-1$ --- степени свободы для t-распределения\n",
    "\n",
    "$\\color{purple}{\\text{\\bf Значимо ли коэффициент }\\beta \\text{ \\bf отличается от числа } \\theta?}$\n",
    "\n",
    "**<span style=\"color: purple\">Способ 1:</span>** используем $t-value$\n",
    "\n",
    "* Отвергаем гипотезу $H_0$ при $|t|>t_{cr}$, $\\color{purple}{\\text{\\bf коэффициент }\\beta \\text{ \\bf значимо отличается от числа } \\theta}$<br> \n",
    "* Не отвергаем гипотезу $H_0$ при $|t|<t_{cr}$, $\\color{purple}{\\text{\\bf коэффициент }\\beta \\text{ \\bf незначимо отличается от числа } \\theta}$<br> \n",
    "\n",
    "**<span style=\"color: purple\">Способ 2:</span>** используем $P-value$\n",
    "\n",
    "* Отвергаем гипотезу $H_0$  при $P<\\alpha$, $\\color{purple}{\\text{\\bf коэффициент }\\beta \\text{ \\bf значимо отличается от числа } \\theta}$<br> \n",
    "* Не отвергаем гипотезу $H_0$ при $P>\\alpha$, $\\color{purple}{\\text{\\bf коэффициент }\\beta \\text{ \\bf незначимо отличается от числа } \\theta}$<br> \n",
    "\n",
    "---\n",
    "\n",
    "<i><b><span style=\"color: purple\">Сравниваем самостоятельно</span> <br>\n",
    "\n",
    "<span style=\"color:#59afe1\">ОБЯЗАТЕЛЬНО ПЕЧАТАЕМ ВЫВОД</span></b>\n",
    "\n",
    "---\n",
    "\n",
    "</div>"
   ]
  },
  {
   "cell_type": "markdown",
   "id": "2633626e",
   "metadata": {},
   "source": [
    "Для набора данных `Labour` рассмотрим регрессию \n",
    "\n",
    "$$\n",
    "\\log(output) = \\beta_0+\\beta_1\\log(capital) + \\beta_2\\log(labour)+error\n",
    "$$"
   ]
  },
  {
   "cell_type": "code",
   "execution_count": null,
   "id": "8a169ce2",
   "metadata": {},
   "outputs": [],
   "source": [
    "# импорт данных\n",
    "df = pd.read_csv('Labour.csv')"
   ]
  },
  {
   "cell_type": "markdown",
   "id": "aaa214a2",
   "metadata": {},
   "source": [
    "## Спецификация и подгонка"
   ]
  },
  {
   "cell_type": "code",
   "execution_count": null,
   "id": "e70adf1a",
   "metadata": {},
   "outputs": [],
   "source": [
    "# спецификация модели через формулу\n",
    "mod = ols(formula='np.log(output)~np.log(capital)+np.log(labour)', data=df)\n",
    "# подгонка модели\n",
    "res = mod.fit()"
   ]
  },
  {
   "cell_type": "code",
   "execution_count": null,
   "id": "ddbd31e8",
   "metadata": {},
   "outputs": [],
   "source": [
    "# Общий отчет\n",
    "res.summary(slim=True)"
   ]
  },
  {
   "cell_type": "markdown",
   "id": "22fbf9a3",
   "metadata": {},
   "source": [
    "## Гипотеза\n",
    "Тестируется гипотеза $H_0:\\beta_{capital}=0.5$ \n"
   ]
  },
  {
   "cell_type": "markdown",
   "id": "c26ded5a",
   "metadata": {},
   "source": [
    "## Уровень значимости\n",
    "Пусть уровень значимости $\\alpha=1\\%=0.01$"
   ]
  },
  {
   "cell_type": "markdown",
   "id": "afcfe0c3",
   "metadata": {},
   "source": [
    "## Результаты тестирования"
   ]
  },
  {
   "cell_type": "code",
   "execution_count": null,
   "id": "e343de00",
   "metadata": {
    "scrolled": true
   },
   "outputs": [],
   "source": [
    "# Составляющие общего t-теста для коэффициента(ов) в одной таблице\n",
    "res.t_test('np.log(capital)=0.5')"
   ]
  },
  {
   "cell_type": "markdown",
   "id": "128e706a",
   "metadata": {},
   "source": [
    "## Критическое значение t-распределения"
   ]
  },
  {
   "cell_type": "code",
   "execution_count": null,
   "id": "183538ec",
   "metadata": {
    "scrolled": true
   },
   "outputs": [],
   "source": [
    "# зададим уровень значимости\n",
    "sign_level = 0.01\n",
    "# критическое значение t-распределения\n",
    "t_cr = t.ppf(q=1-sign_level/2, df=res.df_resid).round(3)\n",
    "t_cr"
   ]
  },
  {
   "cell_type": "markdown",
   "id": "3b804554",
   "metadata": {},
   "source": [
    "**<span style=\"color:#59afe1\">ВЫВОД</span>**: На уровне значимости 1% коэффициент при `log(capital)` значимо отличается от числа 0.5"
   ]
  }
 ],
 "metadata": {
  "kernelspec": {
   "display_name": "Python 3 (ipykernel)",
   "language": "python",
   "name": "python3"
  },
  "language_info": {
   "codemirror_mode": {
    "name": "ipython",
    "version": 3
   },
   "file_extension": ".py",
   "mimetype": "text/x-python",
   "name": "python",
   "nbconvert_exporter": "python",
   "pygments_lexer": "ipython3",
   "version": "3.11.7"
  }
 },
 "nbformat": 4,
 "nbformat_minor": 5
}
