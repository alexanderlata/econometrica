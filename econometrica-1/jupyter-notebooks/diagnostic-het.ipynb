{
 "cells": [
  {
   "cell_type": "markdown",
   "metadata": {},
   "source": [
    "# Диагностика модели: тесты на гетероскедастичность"
   ]
  },
  {
   "cell_type": "code",
   "execution_count": 3,
   "metadata": {},
   "outputs": [],
   "source": [
    "import pandas as pd\n",
    "import numpy as np\n",
    "\n",
    "from statsmodels.formula.api import ols\n",
    "from statsmodels.stats.api import het_breuschpagan, het_white # тесты на гетероскедастичность\n",
    "\n",
    "from scipy.stats import chi2 # chi2-распределение и критические значения\n",
    "\n",
    "# настройки визуализации\n",
    "import matplotlib.pyplot as plt\n",
    "\n",
    "# Не показывать Warning\n",
    "import warnings\n",
    "warnings.simplefilter(action='ignore', category=Warning)"
   ]
  },
  {
   "cell_type": "markdown",
   "metadata": {},
   "source": [
    "<div style=\"background-color:Bisque; color:DarkBlue; padding:30px;\">\n",
    "\n",
    "<i><b><span style=\"color: purple\">Диагностика модели: тесты на гетероскедастичность</span></i></b><br>\n",
    "\n",
    "Рассмотрим линейную регрессию \n",
    "\n",
    "$$\n",
    "\\begin{aligned}\n",
    "\ty_i&=x_i^\\top\\beta+u_i & i&=1,\\ldots,n\n",
    "\\end{aligned}\n",
    "$$\n",
    "с условиями на ошибку\n",
    "* $\\mathsf{E}(u_i|X)=0$ (экзогенность регрессоров)\n",
    "* $cov(u_i,u_j|X)=0$ при $i\\ne j$ (отсутствие серийной корреляции)\n",
    "\n",
    "Будем тестировать условие гетероскедастичности ошибки, т.е.\n",
    "\n",
    "$$\n",
    "\tH_0:Var(u_i|X)=\\sigma^2\n",
    "$$\n",
    "\n",
    "при различных альтернативах\n",
    "\n",
    "**<span style=\"color:purple\">BP-тест:</span>** рассмотрим модель гетероскедастичности в предположении, что дисперсия ошибки может\n",
    "зависеть от переменных $z=\\begin{pmatrix} 1 & z_1 & \\cdots & z_K \\end{pmatrix}$ для некоторой гладкой функции $f(\\cdot)$\n",
    "\n",
    "$$\n",
    "\tVar(u|X)=f(z^\\top \\gamma)=f(\\gamma_0+\\gamma_1z_1+\\cdots+\\gamma_K z_K)\n",
    "$$\n",
    "\n",
    "В качестве переменных $z$ обычно выступают регрессоры модели.\n",
    "\n",
    "Для этой модели тестируется \n",
    "\n",
    "$$\n",
    "\tH_0':\\gamma_1=\\cdots=\\gamma_K=0\n",
    "$$\n",
    "\n",
    "Тест основан на вспомогательной (неинтерпретируемой!) регрессии для OLS-остатков\n",
    "\n",
    "$$\n",
    "\\begin{aligned}\n",
    "\te^2\\;&\\text{на}\\; z & &R^2_{aux}\n",
    "\\end{aligned}\n",
    "$$\n",
    "\n",
    "__Два подхода к тестированию__\n",
    "* тестовая статистика $LM=nR^2_{aux}$, критическое значение $\\chi^2_{cr}=\\chi^2_{df=K}(\\alpha)$ ($K$ - число предикторов во вспомогательной регрессии)\n",
    "* F-тест на значимость вспомогательной регрессии\n",
    "\n",
    "__Вывод:__ Тест указывает на гетероскедастичность (отвергаем $H_0,H'_0$) при $LM>\\chi^2_{cr}, F>F_{cr},P<\\alpha$. \n",
    "\n",
    "__Замечание:__ \n",
    "\n",
    "* гетероскедастичность м.б. следствием неоднородности данных. В этом случаем в качестве $z$ можно выбирать \"переменные масштаба\". Такие переменные могут быть среди регрессоров модели.\n",
    "* используем метод [`statsmodels.stats.diagnostic.het_breuschpagan(resid, exog_het)`](https://www.statsmodels.org/stable/generated/statsmodels.stats.diagnostic.het_breuschpagan.html#statsmodels.stats.diagnostic.het_breuschpagan)\n",
    "* где `resid` -  остатки модели\n",
    "* `exog_het` – матрица наблюдений переменных $z$ (например, матрица регрессионного дизайна $X$ для регрессоров модели)\n",
    "* методы возвращает четыре числа: $LM$-статистику и её P-значение, $F$-статистику и её P-значение\n",
    " \n",
    "\n",
    "**<span style=\"color:purple\">White-тест:</span>** тест на гетероскедастичность общего вида \n",
    "\n",
    "Тест основан на вспомогательной (неинтерпретируемой!) регрессии для OLS-остатков\n",
    "\n",
    "$$\n",
    "\\begin{aligned}\n",
    "\te^2\\;&\\text{на}\\; x_j,x_j^2,x_jx_l & &R^2_{aux}\n",
    "\\end{aligned}\n",
    "$$\n",
    "\n",
    "__Два подхода к тестированию__\n",
    "* тестовая статистика $LM=nR^2_{aux}$, критическое значение $\\chi^2_{cr}=\\chi^2_{df=K}(\\alpha)$ ($K$ - число предикторов во вспомогательной регрессии)\n",
    "* F-тест на значимость вспомогательной регрессии\n",
    "\n",
    "__Вывод:__ Тест указывает на гетероскедастичность (отвергаем $H_0$) при $LM>\\chi^2_{cr}, F>F_{cr},P<\\alpha$. \n",
    "\n",
    "__Замечание:__ \n",
    "\n",
    "* используем метод [`statsmodels.stats.diagnostic.het_white(resid, exog)`](https://www.statsmodels.org/stable/generated/statsmodels.stats.diagnostic.het_white.html#statsmodels.stats.diagnostic.het_white)\n",
    "* где `resid` -  остатки модели\n",
    "* `exog` – матрица наблюдений переменных $z$ (например, матрица регрессионного дизайна $X$ для регрессоров модели)\n",
    "* методы возвращает четыре числа: $LM$-статистику и её P-значение, $F$-статистику и её P-значение\n",
    "\n",
    "</div>"
   ]
  },
  {
   "cell_type": "markdown",
   "metadata": {},
   "source": [
    "Для датасета `Labour` рассмотрим регрессию \n",
    "\n",
    "$$\n",
    "\t\\log(output)\\;\\text{на}\\log(capital),\\log(labour),\\log^2(capital),\\log^2(capital)\n",
    "$$"
   ]
  },
  {
   "cell_type": "code",
   "execution_count": 4,
   "metadata": {},
   "outputs": [],
   "source": [
    "# загрузим данные\n",
    "df = pd.read_csv('Labour.csv')"
   ]
  },
  {
   "cell_type": "code",
   "execution_count": 5,
   "metadata": {},
   "outputs": [],
   "source": [
    "# спецификация модели\n",
    "mod = ols(formula='np.log(output)~1+np.log(capital)+np.log(labour)+I(np.log(capital)**2)+I(np.log(labour)**2)', data=df)\n",
    "# подгонка модели с ковариационной матрицей по умолчанию (неробастной)\n",
    "res = mod.fit()"
   ]
  },
  {
   "cell_type": "markdown",
   "metadata": {},
   "source": [
    "## BP-тест\n",
    "\n",
    "Тестируем зависимость дисперсии ошибки от регрессоров модели. В качестве аргумента `exog_het` возьмём матрицу регрессивного дизайна $X$"
   ]
  },
  {
   "cell_type": "code",
   "execution_count": 6,
   "metadata": {},
   "outputs": [
    {
     "data": {
      "text/plain": [
       "(44.53371850842652, 4.970083203925146e-09)"
      ]
     },
     "execution_count": 6,
     "metadata": {},
     "output_type": "execute_result"
    }
   ],
   "source": [
    "lm, lm_pvalue, fvalue, f_pvalue = het_breuschpagan(resid=res.resid, exog_het=mod.exog)\n",
    "# LM-статистика и её P-значение \n",
    "lm, lm_pvalue"
   ]
  },
  {
   "cell_type": "markdown",
   "metadata": {},
   "source": [
    "## Критическое значение $\\chi^2$-распределения"
   ]
  },
  {
   "cell_type": "code",
   "execution_count": 7,
   "metadata": {},
   "outputs": [
    {
     "data": {
      "text/plain": [
       "9.487729036781154"
      ]
     },
     "execution_count": 7,
     "metadata": {},
     "output_type": "execute_result"
    }
   ],
   "source": [
    "# Задаём уровень значимости\n",
    "sign_level = 0.05\n",
    "# Критическое значение распределения chi2\n",
    "chi2.ppf(q=1-sign_level, df=mod.df_model)"
   ]
  },
  {
   "cell_type": "markdown",
   "metadata": {},
   "source": [
    "## Вывод\n",
    "\n",
    "<div style=\"background-color:Bisque; color:DarkBlue; padding:30px;\">\n",
    "\n",
    "<span style=\"color: purple\"><i><b>Тест указывает на гетероскедастичность </i></b></span> (отвергаем $H_0,H'_0$) т.к. $LM>\\chi^2_{cr}$ или $P<\\alpha$.\n",
    "\n",
    "</div>"
   ]
  },
  {
   "cell_type": "markdown",
   "metadata": {},
   "source": [
    "## White-тест\n",
    "\n",
    "Тестируем зависимость дисперсии ошибки от регрессоров модели"
   ]
  },
  {
   "cell_type": "code",
   "execution_count": 8,
   "metadata": {},
   "outputs": [
    {
     "data": {
      "text/plain": [
       "(75.45405182710691, 3.0150449532098e-11)"
      ]
     },
     "execution_count": 8,
     "metadata": {},
     "output_type": "execute_result"
    }
   ],
   "source": [
    "lm, lm_pvalue, fvalue, f_pvalue = het_white(resid=res.resid, exog=mod.exog)\n",
    "# LM-статистика и её P-значение \n",
    "lm, lm_pvalue"
   ]
  },
  {
   "cell_type": "markdown",
   "metadata": {},
   "source": [
    "## Критическое значение $\\chi^2$-распределения"
   ]
  },
  {
   "cell_type": "code",
   "execution_count": 9,
   "metadata": {},
   "outputs": [
    {
     "data": {
      "text/plain": [
       "23.684791304840576"
      ]
     },
     "execution_count": 9,
     "metadata": {},
     "output_type": "execute_result"
    }
   ],
   "source": [
    "# Задаём уровень значимости\n",
    "sign_level = 0.05\n",
    "# Найдем степени свободы\n",
    "k = mod.df_model # число регрессоров\n",
    "df_white = 2 * k + k * (k-1) / 2\n",
    "# Критическое значение распределения chi2\n",
    "chi2.ppf(q=1-sign_level, df=df_white)"
   ]
  },
  {
   "cell_type": "markdown",
   "metadata": {},
   "source": [
    "## Вывод\n",
    "\n",
    "<div style=\"background-color:Bisque; color:DarkBlue; padding:30px;\">\n",
    "\n",
    "<span style=\"color: purple\"><i><b>Тест указывает на гетероскедастичность </i></b></span> (отвергаем $H_0,H'_0$) т.к. $LM>\\chi^2_{cr}$ или $P<\\alpha$.\n",
    "\n",
    "</div>"
   ]
  }
 ],
 "metadata": {
  "kernelspec": {
   "display_name": "base",
   "language": "python",
   "name": "python3"
  },
  "language_info": {
   "codemirror_mode": {
    "name": "ipython",
    "version": 3
   },
   "file_extension": ".py",
   "mimetype": "text/x-python",
   "name": "python",
   "nbconvert_exporter": "python",
   "pygments_lexer": "ipython3",
   "version": "3.12.3"
  }
 },
 "nbformat": 4,
 "nbformat_minor": 2
}
