{
 "cells": [
  {
   "cell_type": "markdown",
   "id": "7cc14583",
   "metadata": {},
   "source": [
    "# F-тест: структурные изменения/сдвиги"
   ]
  },
  {
   "cell_type": "code",
   "execution_count": null,
   "id": "b56f44d3",
   "metadata": {},
   "outputs": [],
   "source": [
    "import pandas as pd\n",
    "import numpy as np\n",
    "\n",
    "from statsmodels.formula.api import ols\n",
    "from statsmodels.iolib.summary2 import summary_col # вывод результатов тестирования\n",
    "\n",
    "from scipy.stats import f # f-распределение и критические значения\n",
    "\n",
    "# Не показывать Warnings\n",
    "import warnings\n",
    "warnings.simplefilter(action='ignore', category=Warning)"
   ]
  },
  {
   "cell_type": "markdown",
   "id": "c6cafd14",
   "metadata": {},
   "source": [
    "<div style=\"background-color:Bisque; color:DarkBlue; padding:30px;\">\n",
    "\n",
    "<i><b><span style=\"color: purple\">Значимость структурных изменений/сдвигов</span> </b><br>\n",
    "\n",
    "Пусть бинарная переменная $D$ отвечает за структурное изменение (сдвиги).\n",
    "\n",
    "Для учёта структурных изменений (сдвигов) рассмотрим две модели\n",
    "\n",
    "__(1) Модель без структурных изменений (сдвигов)__\n",
    "\n",
    "$$\n",
    "\t(\\log)y=\\beta_0+\\beta_1(\\log)x_1+\\cdots+\\beta_k(\\log)x_k+u=x^\\top \\beta+u\n",
    "$$\n",
    "\n",
    "Обозначим коэффициент детерминации $R^2$ для этой модели через $R^2_{res}$.\n",
    "\n",
    "__(2) Модель со структурными изменениями (сдвигами)__\n",
    "\n",
    "$$\n",
    "\t(\\log)y=x^\\top \\beta+(D\\cdot x^\\top) \\gamma+v\n",
    "$$\n",
    "\n",
    "Обозначим коэффициент детерминации $R^2$ для этой модели через $R^2_{unres}$.\n",
    "\n",
    "Для регрессии (2)  тестируем гипотезу, что $J=k+1$ новых коэффициентов совместно равны нулю в генеральной совокупности.\n",
    "\n",
    "$$\n",
    "H_0:\\gamma_{0}=\\cdots=\\gamma_{k}=0\n",
    "$$\n",
    "\n",
    "__Интерпретация__: включённые в модель новые регрессоры совместно не влияют на зависимую переменную (в генеральной совокупности)\n",
    "\n",
    "__Тестовая статистика__ для выбранной оценки ковариационной матрицы $\\hat{V}$ формула для F-статистики (всё вычисляется автоматически!)\n",
    "\n",
    "$$\n",
    "F=\\frac{R^2_{unres}-R^2_{res}}{1-R^2_{unres}}\\cdot \\frac{n-k-1}{J}\n",
    "$$\n",
    "\n",
    "__Критическое значение__: $F$-распределения со степенями свободы ($k$ - число объясняющих переменных в модели (2))\n",
    "\n",
    "$$ \n",
    "\\begin{aligned} \n",
    "\tdf_1&=dfn=J & df_2&=dfd=n-k-1\n",
    "\\end{aligned}\n",
    "$$\n",
    "\n",
    "__Замечание__: \n",
    "* для F-тест есть неробастный (по умолчанию) и робастный вариант\n",
    "* для подогнанной __регрессии со структурными изменениями__ используем метод `.f_test(r_matrix)` или `.wald_test(r_matrix, use_f=True)`\n",
    "* тестируемую гипотезу специфицируем в виде `'x1=x2=0'` или `'x1=0,x2=0'` (параметр `r_matrix`) \n",
    "\n",
    "__Вывод__\n",
    "\n",
    "**<span style=\"color:purple\">Способ 1:</span>** используем $F$-статистику\n",
    "\n",
    "* Отвергаем гипотезу $H_0$ при $F>F_{cr}$, <i><b><span style=\"color: purple\">структурные изменения значимы</span></b><br>\n",
    "* Не отвергаем гипотезу $H_0$ при $F<F_{cr}$, <i><b><span style=\"color: purple\">структурные изменения незначимы</span> </b><br>\n",
    "\n",
    "**<span style=\"color:purple\">Способ 2:</span>** используем $P-value$\n",
    "\n",
    "* Отвергаем гипотезу $H_0$  при $P<\\alpha$, <i><b><span style=\"color: purple\">структурные изменения значимы</span> </b><br>\n",
    "* Не отвергаем гипотезу $H_0$ при $P>\\alpha$, <i><b><span style=\"color: purple\">структурные изменения незначимы</span> </b><br>\n",
    "\n",
    "</div>"
   ]
  },
  {
   "cell_type": "markdown",
   "id": "de3ba534",
   "metadata": {},
   "source": [
    "Для набора данных `sleep75` рассмотрим линейную регрессию __sleep на totwrk, age, smsa__: исходную и со структурными сдвигами относительно гендерной dummy-переменной __male__\n",
    "\n",
    "Тестируем значимость структурных сдвигов (т.е. тестируем совместную значимость __male, totwrk:male, age:male, smsa:male__ для регрессии со структурными изменениями)\n",
    "\n",
    "$$\n",
    "\tH_0:\\beta_{male}=\\beta_{totwrk:male}=\\beta_{age:male}=\\beta_{smsa:male}=0\n",
    "$$\n",
    "\n",
    "Для этой гипотезы $J=4$"
   ]
  },
  {
   "cell_type": "code",
   "execution_count": null,
   "id": "fc719734",
   "metadata": {},
   "outputs": [],
   "source": [
    "# импорт данных\n",
    "df = pd.read_csv('sleep75.csv')"
   ]
  },
  {
   "cell_type": "markdown",
   "id": "7e5f4340",
   "metadata": {},
   "source": [
    "## F-тест (неробастный)\n",
    "\n",
    "Используем OLS-оценку ковариационной матрицы $\\hat{V}=s^2(X^\\top X)^{-1}$"
   ]
  },
  {
   "cell_type": "code",
   "execution_count": null,
   "id": "5073302b",
   "metadata": {},
   "outputs": [],
   "source": [
    "# спецификация исходной модели \n",
    "mod = ols(formula='sleep~1+totwrk+age+smsa', data = df)\n",
    "# подгонка исходной модели\n",
    "res = mod.fit()\n",
    "# спецификация модели со структурными сдвигами\n",
    "mod_breaks = ols(formula='sleep~1+totwrk+age+smsa+male+totwrk:male+age:male+smsa:male', data = df)\n",
    "# подгонка модели со структурными сдвигами\n",
    "res_breaks = mod_breaks.fit()\n",
    "# Результаты двух оцениваний в одной таблице\n",
    "summary_col([res, res_breaks], stars=True, \n",
    "            regressor_order=['totwrk', 'age', 'smsa', 'male', 'totwrk:male', 'age:male', 'smsa:male'])"
   ]
  },
  {
   "cell_type": "code",
   "execution_count": null,
   "id": "67436ca9",
   "metadata": {},
   "outputs": [],
   "source": [
    "F_test = res_breaks.f_test('male=0, totwrk:male=0, age:male=0, smsa:male=0')\n",
    "print(F_test)"
   ]
  },
  {
   "cell_type": "code",
   "execution_count": null,
   "id": "d4dd10a6",
   "metadata": {},
   "outputs": [],
   "source": [
    "# Тестовая статистика и её P-значение\n",
    "F_test.statistic, F_test.pvalue"
   ]
  },
  {
   "cell_type": "code",
   "execution_count": null,
   "id": "a7fc8fcd",
   "metadata": {},
   "outputs": [],
   "source": [
    "# степени свободы \n",
    "F_test.df_num, F_test.df_denom"
   ]
  },
  {
   "cell_type": "code",
   "execution_count": null,
   "id": "29ce50fc",
   "metadata": {},
   "outputs": [],
   "source": [
    "# альтернативно\n",
    "W_test = res_breaks.wald_test('male=0, totwrk:male=0, age:male=0, smsa:male=0', use_f=True)\n",
    "print(W_test)"
   ]
  },
  {
   "cell_type": "markdown",
   "id": "3746739b",
   "metadata": {},
   "source": [
    "## Критическое значение F-распределения"
   ]
  },
  {
   "cell_type": "code",
   "execution_count": null,
   "id": "a4b37717",
   "metadata": {},
   "outputs": [],
   "source": [
    "# уровень значимости\n",
    "sign_level = 0.05\n",
    "# Критическое значение F-распределения\n",
    "f.isf(q=sign_level, dfn=F_test.df_num, dfd=F_test.df_denom)"
   ]
  },
  {
   "cell_type": "markdown",
   "id": "fc6eaf44",
   "metadata": {},
   "source": [
    "## Вывод\n",
    "\n",
    "<div style=\"background-color:Bisque; color:DarkBlue; padding:30px;\">\n",
    "\n",
    "Не отвергаем гипотезу $H_0$ (т.к. $F<F_{cr}$ или $P>\\alpha$), <i><b><span style=\"color: purple\">структурные изменения незначимы</span></b><br>\n",
    "\n",
    "</div>"
   ]
  },
  {
   "cell_type": "markdown",
   "id": "48330c4a",
   "metadata": {},
   "source": [
    "## F-тест (робастный)\n",
    "\n",
    "Используем HC3-оценку ковариационной матрицы"
   ]
  },
  {
   "cell_type": "code",
   "execution_count": null,
   "id": "542e7cb3",
   "metadata": {},
   "outputs": [],
   "source": [
    "# спецификация исходной модели \n",
    "mod = ols(formula='sleep~1+totwrk+age+smsa', data = df)\n",
    "# подгонка исходной модели с робастной HC3 ковариационной матрицей\n",
    "res_hc = mod.fit(cov_type='HC3')\n",
    "# спецификация модели со структурными сдвигами\n",
    "mod_breaks = ols(formula='sleep~1+totwrk+age+smsa+male+totwrk:male+age:male+smsa:male', data = df)\n",
    "# подгонка модели со структурными сдвигами с робастной HC3 ковариационной матрицей\n",
    "res_breaks_hc = mod_breaks.fit(cov_type='HC3')\n",
    "# Результаты двух оцениваний в одной таблице\n",
    "summary_col([res_hc, res_breaks_hc], stars=True, \n",
    "            regressor_order=['totwrk', 'age', 'smsa', 'male', 'totwrk:male', 'age:male', 'smsa:male'])"
   ]
  },
  {
   "cell_type": "code",
   "execution_count": null,
   "id": "c84c635e",
   "metadata": {},
   "outputs": [],
   "source": [
    "F_test = res_breaks_hc.f_test('male=0, totwrk:male=0, age:male=0, smsa:male=0')\n",
    "print(F_test)"
   ]
  },
  {
   "cell_type": "code",
   "execution_count": null,
   "id": "5a0d24b8",
   "metadata": {},
   "outputs": [],
   "source": [
    "# Тестовая статистика и её P-значение\n",
    "F_test.statistic, F_test.pvalue"
   ]
  },
  {
   "cell_type": "code",
   "execution_count": null,
   "id": "8399fa9f",
   "metadata": {},
   "outputs": [],
   "source": [
    "# альтернативно\n",
    "W_test = res_breaks_hc.wald_test('male=0, totwrk:male=0, age:male=0, smsa:male=0', use_f=True)\n",
    "print(W_test)"
   ]
  },
  {
   "cell_type": "markdown",
   "id": "238b689e",
   "metadata": {},
   "source": [
    "## Критическое значение F-распределения"
   ]
  },
  {
   "cell_type": "code",
   "execution_count": null,
   "id": "2750572e",
   "metadata": {},
   "outputs": [],
   "source": [
    "# уровень значимости\n",
    "sign_level = 0.05\n",
    "# Критическое значение F-распределения\n",
    "f.isf(q=sign_level, dfn=F_test.df_num, dfd=F_test.df_denom)"
   ]
  },
  {
   "cell_type": "markdown",
   "id": "7d8ed89a",
   "metadata": {},
   "source": [
    "## Вывод\n",
    "\n",
    "<div style=\"background-color:Bisque; color:DarkBlue; padding:30px;\">\n",
    "\n",
    "Не отвергаем гипотезу $H_0$ (т.к. $F<F_{cr}$ или $P>\\alpha$), <i><b><span style=\"color: purple\">структурные изменения незначимы</span></b><br>\n",
    "\n",
    "</div>"
   ]
  }
 ],
 "metadata": {
  "kernelspec": {
   "display_name": "Python 3 (ipykernel)",
   "language": "python",
   "name": "python3"
  },
  "language_info": {
   "codemirror_mode": {
    "name": "ipython",
    "version": 3
   },
   "file_extension": ".py",
   "mimetype": "text/x-python",
   "name": "python",
   "nbconvert_exporter": "python",
   "pygments_lexer": "ipython3",
   "version": "3.11.7"
  }
 },
 "nbformat": 4,
 "nbformat_minor": 5
}
