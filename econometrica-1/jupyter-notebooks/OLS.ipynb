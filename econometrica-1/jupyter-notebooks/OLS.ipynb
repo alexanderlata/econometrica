{
 "cells": [
  {
   "cell_type": "markdown",
   "metadata": {},
   "source": [
    "# Метод наименьших квадратов\n",
    "\n",
    "Рассмотрим переменные:\n",
    "\n",
    "* $y$ – зависимая переменная, отклик, __target__  (количественная!)\n",
    "* $\\begin{pmatrix} x_1 &\\cdots & x_k \\end{pmatrix}$ – объясняющие/влияющие переменные, регрессоры, предикторы, __features__ (количественные/категориальные)\n",
    "\n",
    "для которых имеем серию $n$ наблюдений: \n",
    "\n",
    "$$\\{y_i, x_{i1},\\ldots, x_{ik} \\}_{i=1}^n$$\n",
    "\n",
    "## Задача прогнозирования\n",
    "\n",
    "Рассмотрим функцию/модель $a(x_1,\\ldots,x_k)$, которую будем использовать для прогнозирования $y$ при заданных \n",
    "$\\begin{pmatrix} x_1 &\\cdots & x_k \\end{pmatrix}$.\n",
    "\n",
    "Обычно модель зависит то нескольких параметров $a(x_1,\\ldots,x_k)=a(x_1,\\ldots,x_k,\\beta)$.\n",
    "\n",
    "Прогноз обозначим $\\hat{y}=a(x_1,\\ldots,x_k)=a(x_1,\\ldots,x_k,\\beta)$\n",
    "\n",
    "__Задача__: на данных обучить выбранную модель, чтобы использовать её для прогнозирования на новых наблюдениях.\n",
    "\n",
    "Что нужно?\n",
    "\n",
    "1. Выбрать модель $a(x_1,\\ldots,x_k)$\n",
    "2. Выбрать функцию потерь $L(y,\\hat{y})$, показывающую точность прогнозирования\n",
    "\n",
    "__Подгонка модели__: решаем задачу оптимизации\n",
    "\n",
    "$$\n",
    "\t\\min_{\\beta} \\frac{1}{n}\\sum_{i=1}^n L(y_i,\\hat{y}_i)\n",
    "$$\n",
    "\n",
    "Параметры подогнанной модели обозначим $\\hat{\\beta}$\n",
    "\n",
    "Базовые метрики подгонки\n",
    "\n",
    "$$\n",
    "\\begin{aligned}\n",
    "\tMSE&=\\frac{1}{n}\\sum_{i=1}^n |y_i-\\hat{y}_i|^2 & L(y,\\hat{y})=|y-\\hat{y}|^2 \\\\\n",
    "\tMAE&=\\frac{1}{n}\\sum_{i=1}^n |y_i-\\hat{y}_i| & L(y,\\hat{y})=|y-\\hat{y}| \\\\\n",
    "\tMAPE&=\\frac{1}{n}\\sum_{i=1}^n \\frac{|y_i-\\hat{y}_i|}{|y_i|} & L(y,\\hat{y})=\\frac{|y-\\hat{y}|}{|y|}\n",
    "\\end{aligned}\n",
    "$$\n",
    "\n",
    "## Метод наименьших квадратов (OLS) для линейной регрессии\n",
    "\n",
    "В качестве модели для прогнозирования выборем __линейную регрессию__ (с константой)\n",
    "\n",
    "$$\n",
    "\ta(x_1,\\ldots,x_k)=\\beta_0+\\beta_1x_1+\\cdots+\\beta_kx_k\n",
    "$$\n",
    "\n",
    "Функция потерь возьмём$L(y,\\hat{y})=|y-\\hat{y}|^2$ (метрика подгонки MSE)\n",
    "\n",
    "Для удобства обозначим \n",
    "* $\\beta=\\begin{pmatrix} \\beta_0 & \\beta_1 & \\cdots & \\beta_k \\end{pmatrix}^\\top$\n",
    "* $x=\\begin{pmatrix} 1 & x_1 & \\cdots & x_k \\end{pmatrix}^\\top$\n",
    "\n",
    "Тогда $a(x_1,\\ldots,x_k)=x^\\top \\beta=\\langle x, \\beta\\rangle$\n",
    "\n",
    "__Подгонка модели (выбор коэффициентов)__: решаем задачу оптимизации\n",
    "\n",
    "$$\n",
    "\\begin{aligned}\n",
    "\t\\min_{\\beta}&\\, MSE & MSE&=\\frac{1}{n}\\sum_{i=1}^n |y_i-\\hat{y}_i|^2\n",
    "\\end{aligned}\n",
    "$$\n",
    "\n",
    "или\n",
    "\n",
    "$$\n",
    "\t\\min_{\\beta} \\frac{1}{n}\\sum_{i=1}^n |y_i-\\beta_0-\\beta_1x_{i1}-\\cdots-\\beta_kx_{ik}|^2\n",
    "$$\n",
    "\n",
    "## Метод наименьших квадратов для линейной регрессии 2D\n",
    "\n",
    "Рассмотрим случай одного предиктора, т.е. $a(x)=\\beta_0+\\beta_1x$ (геометрически прямая на плоскости $(x,y)$). \n",
    "\n",
    "Для метрики подгонки\n",
    "\n",
    "$$\n",
    "\tMSE=\\frac 1n\\sum_{i=1}^n |y_i-\\hat{y}_i|^2=\\frac 1n\\sum_{i=1}^n (y_i-\\beta_0-\\beta_1 x_i)^2\n",
    "$$\n",
    "\n",
    "\n",
    "Коэффициенты подогнанной модели находятся как решение задачи (безусловной) оптимизации\n",
    "\n",
    "$$\n",
    "\t\\min_{\\beta_0,\\beta_1}MSE\n",
    "$$\n",
    "(на плоскости подгоняем прямую под наблюдения)\n",
    "\n",
    "Необходимые условия\n",
    "\n",
    "$$\n",
    "\t\\left\\{\\begin{aligned} \n",
    "\t\t\\frac{\\partial MSE}{\\partial \\beta_0} &=0 \\\\ \n",
    "\t\t\\frac{\\partial MSE}{\\partial \\beta_1} &=0\n",
    "\t\\end{aligned}\\right.\n",
    "$$\n",
    "\n",
    "Имеем\n",
    "\n",
    "$$\n",
    "\\begin{aligned}\n",
    "\t\\frac{\\partial MSE}{\\partial \\beta_0} &=\\frac{1}{n}\\sum_{i=1}^n 2(y_i-\\beta_0-\\beta_1 x_i)(-1)=\n",
    "\t(-2)\\left(\\frac{1}{n}\\sum_{i=1}^n y_i-\\frac{1}{n}\\sum_{i=1}^n \\beta_0-\\frac{1}{n}\\sum_{i=1}^n \\beta_1x_i\\right)=\n",
    "\t(-2)(\\bar{y}-\\beta_0-\\beta_1 \\bar{x})=0\\\\\n",
    "\t\\frac{\\partial MSE}{\\partial \\beta_1} &=\\frac{1}{n}\\sum_{i=1}^n 2(y_i-\\beta_0-\\beta_1 x_i)(-x_i)=\n",
    "\t(-2)\\left(\\frac{1}{n}\\sum_{i=1}^n x_iy_i-\\frac{1}{n}\\sum_{i=1}^n \\beta_0x_i-\\frac{1}{n}\\sum_{i=1}^n \\beta_1x_i^2\\right)=\n",
    "\t(-2)(\\overline{xy}-\\beta_0\\bar{x}-\\beta_1\\overline{x^2})=0\n",
    "\\end{aligned}\n",
    "$$\n",
    "\n",
    "Получаем систему\n",
    "\n",
    "$$\n",
    "\t\\left\\{\\begin{aligned} \n",
    "\t\t\\beta_0+\\beta_1\\bar{x} &=\\bar{y} \\\\\n",
    "\t\t\\beta_0\\bar{x}+\\beta_1\\overline{x^2} &= \\overline{xy}\n",
    "\t\\end{aligned}\\right.\n",
    "$$\n",
    "\n",
    "Решение системы \n",
    "\n",
    "$$\n",
    "\\begin{aligned}\n",
    "\t\\hat{\\beta}_1 &= \\frac{\\overline{xy}-\\bar{x}\\cdot\\bar{y}}{\\overline{x^2}-\\left(\\bar{x}\\right)^2}=\n",
    "\t\\frac{cov(x,y)}{Var(x)} & \\hat{\\beta}_0&=\\bar{y}-\\hat{\\beta}_1\\cdot\\bar{x}\n",
    "\\end{aligned}\n",
    "$$\n",
    "\n",
    "__Замечание__: оптимальная прямая $\\hat{y}=\\hat{a}(x)=\\hat{\\beta}_0+\\hat{\\beta}_1x$ проходит через \"центр масс\" \n",
    "наблюдений $(\\bar{x}, \\bar{y})$"
   ]
  },
  {
   "cell_type": "markdown",
   "metadata": {},
   "source": [
    "# Численные примеры\n",
    "\n",
    "Подключим необходимые библиотеки"
   ]
  },
  {
   "cell_type": "code",
   "execution_count": null,
   "metadata": {},
   "outputs": [],
   "source": [
    "import numpy as np\n",
    "import pandas as pd\n",
    "\n",
    "from statsmodels.formula.api import ols\n",
    "\n",
    "import seaborn as sns\n",
    "import plotly.express as px\n",
    "import plotly.graph_objects as go\n",
    "\n",
    "# Не показывать Warnings\n",
    "import warnings\n",
    "warnings.simplefilter(action='ignore', category=Warning)"
   ]
  },
  {
   "cell_type": "code",
   "execution_count": null,
   "metadata": {},
   "outputs": [],
   "source": [
    "# импорт данных из файла как DataFrame\n",
    "df = pd.read_csv('../datasets/sleep75.csv')\n",
    "# размер датафрейма\n",
    "df.shape"
   ]
  },
  {
   "cell_type": "code",
   "execution_count": null,
   "metadata": {},
   "outputs": [],
   "source": [
    "# напечатаем датафрейм\n",
    "df"
   ]
  },
  {
   "cell_type": "markdown",
   "metadata": {},
   "source": [
    "## Пример 1 2D\n",
    "\n",
    "Рассмотрим регрессию `sleep на totwrk`. Визуализируем данные с оптимальной прямой (библиотека `seaborn`)"
   ]
  },
  {
   "cell_type": "code",
   "execution_count": null,
   "metadata": {},
   "outputs": [],
   "source": [
    "sns.set_theme(style='darkgrid')\n",
    "sns.regplot(data=df, x='totwrk', y='sleep', ci=None, scatter_kws={'s':5}, line_kws={'linestyle':'dashed', 'color':'r', 'linewidth':1})"
   ]
  },
  {
   "cell_type": "markdown",
   "metadata": {},
   "source": [
    "Параметры оптимальной прямой"
   ]
  },
  {
   "cell_type": "code",
   "execution_count": null,
   "metadata": {},
   "outputs": [],
   "source": [
    "# спецификация модели через формулу\n",
    "mod = ols(formula='sleep~1+totwrk', data=df)\n",
    "# подгонка модели\n",
    "res = mod.fit()\n",
    "# параметры оптимальной прямой\n",
    "res.params"
   ]
  },
  {
   "cell_type": "markdown",
   "metadata": {},
   "source": [
    "Альтернативная визуализация (библиотека `plotly`). Цвет определяется параметром [trendline_color_override](https://www.w3schools.com/cssref/css_colors.php)"
   ]
  },
  {
   "cell_type": "code",
   "execution_count": null,
   "metadata": {},
   "outputs": [],
   "source": [
    "fig = px.scatter(df, x='totwrk', y='sleep', trendline='ols', trendline_color_override='#8B0000')\n",
    "fig.show()"
   ]
  },
  {
   "cell_type": "markdown",
   "metadata": {},
   "source": [
    "## Пример 2 3D\n",
    "\n",
    "Рассмотрим регрессию `sleep на totwrk, age`. Результаты подгонки"
   ]
  },
  {
   "cell_type": "code",
   "execution_count": null,
   "metadata": {},
   "outputs": [],
   "source": [
    "# спецификация модели через формулу\n",
    "mod = ols(formula='sleep~1+totwrk+age', data=df)\n",
    "# подгонка модели\n",
    "res = mod.fit()\n",
    "# параметры подогнанной модели регрессии\n",
    "res.params"
   ]
  },
  {
   "cell_type": "markdown",
   "metadata": {},
   "source": [
    "визуализируем данные по переменным модели как 3D диаграмму рассеяния (библиотека `plotly`)"
   ]
  },
  {
   "cell_type": "code",
   "execution_count": null,
   "metadata": {},
   "outputs": [],
   "source": [
    "fig = px.scatter_3d(data_frame=df, x='totwrk', y='age', z='sleep')\n",
    "fig.update_traces(marker_size=3) # размер точки\n",
    "fig.show()"
   ]
  },
  {
   "cell_type": "markdown",
   "metadata": {},
   "source": [
    "визуализируем данные по переменным модели как 3D диаграмму рассеяния с подогнанной плоскостью"
   ]
  },
  {
   "cell_type": "code",
   "execution_count": null,
   "metadata": {},
   "outputs": [],
   "source": [
    "# коэффициенты оптимальной плоскости\n",
    "beta0, beta1, beta2 = ols(formula='sleep~1+totwrk+age', data=df).fit().params\n",
    "\n",
    "# Визуализируем данные и плоскость\n",
    "# данные для оптимальной плоскости\n",
    "X = np.arange(start=df['totwrk'].min(), stop=df['totwrk'].max(), step=1)\n",
    "Y = np.arange(start=df['age'].min(), stop=df['age'].max(), step=1)\n",
    "X, Y = np.meshgrid(X, Y)\n",
    "Z = beta0+beta1*X+beta2*Y\n",
    "\n",
    "fig = px.scatter_3d(data_frame=df, x='totwrk', y='age', z='sleep', opacity=0.5)\n",
    "fig.update_traces(marker_size=3) # размер точки\n",
    "fig.add_trace(go.Surface(x=X, y=Y, z=Z))\n",
    "fig.show()"
   ]
  },
  {
   "cell_type": "markdown",
   "metadata": {},
   "source": [
    "## Пример 3 Парабола\n",
    "\n",
    "Рассмотрим регрессию `sleep на totwrk, totwrk^2`. Результаты подгонки"
   ]
  },
  {
   "cell_type": "code",
   "execution_count": null,
   "metadata": {},
   "outputs": [],
   "source": [
    "# спецификация модели через формулу\n",
    "mod = ols(formula='sleep~1+totwrk+I(totwrk**2)', data=df)\n",
    "# подгонка модели\n",
    "res = mod.fit()\n",
    "# параметры подогнанной модели регрессии\n",
    "res.params"
   ]
  },
  {
   "cell_type": "code",
   "execution_count": null,
   "metadata": {},
   "outputs": [],
   "source": [
    "# визуализация\n",
    "sns.set_theme(style='darkgrid')\n",
    "sns.regplot(data=df, x='totwrk', y='sleep', order=2, ci=None, scatter_kws={'s':5}, line_kws={'linestyle':'dashed', 'color':'r', 'linewidth':2})"
   ]
  }
 ],
 "metadata": {
  "kernelspec": {
   "display_name": "base",
   "language": "python",
   "name": "python3"
  },
  "language_info": {
   "codemirror_mode": {
    "name": "ipython",
    "version": 3
   },
   "file_extension": ".py",
   "mimetype": "text/x-python",
   "name": "python",
   "nbconvert_exporter": "python",
   "pygments_lexer": "ipython3",
   "version": "3.12.9"
  }
 },
 "nbformat": 4,
 "nbformat_minor": 2
}
