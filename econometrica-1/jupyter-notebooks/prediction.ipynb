{
 "cells": [
  {
   "cell_type": "markdown",
   "metadata": {},
   "source": [
    "# Прогнозирование (out-of-sample)\n",
    "\n",
    "Рассмотрим модель регрессии\n",
    "\n",
    "$$\n",
    "\t(\\log) y=\\beta_0+\\beta_1 (\\log)x_1+\\cdots+\\beta_k (\\log) x_k+u\n",
    "$$\n",
    "\n",
    "В матричной записи\n",
    "\n",
    "\\begin{align*}\n",
    "\t(\\log)y&=x^\\top\\beta+u & \\beta&=\\begin{pmatrix} \\beta_0 \\\\ \\beta_1 \\\\ \\vdots \\\\ \\beta_k \\end{pmatrix} &\n",
    "\tx &=\\begin{pmatrix} 1 \\\\ (\\log)x_1 \\\\ \\vdots \\\\ (\\log) x_k \\end{pmatrix}\n",
    "\\end{align*}\n",
    "\n",
    "Пусть $\\hat{\\beta}$ – оценки коэффициентов (результат подгонки модели на обучающей выборке)\n",
    "\n",
    "Прогноз по подогнанной (обученной модели) на новом наборе данных (регрессорах)\n",
    "\n",
    "$$\n",
    "\t\\hat{y}=(\\exp) x^\\top \\hat{\\beta}\n",
    "$$"
   ]
  },
  {
   "cell_type": "code",
   "execution_count": null,
   "metadata": {},
   "outputs": [],
   "source": [
    "import numpy as np\n",
    "import pandas as pd\n",
    "\n",
    "from statsmodels.formula.api import ols\n",
    "\n",
    "# Не показывать FutureWarnings\n",
    "import warnings\n",
    "warnings.simplefilter(action='ignore', category=Warning)"
   ]
  },
  {
   "cell_type": "code",
   "execution_count": null,
   "metadata": {},
   "outputs": [],
   "source": [
    "# импорт данных\n",
    "df = pd.read_csv('sleep75.csv')"
   ]
  },
  {
   "cell_type": "markdown",
   "metadata": {},
   "source": [
    "## Спецификация и подгонка"
   ]
  },
  {
   "cell_type": "code",
   "execution_count": null,
   "metadata": {},
   "outputs": [],
   "source": [
    "# спецификация модели через формулу\n",
    "mod = ols(formula='sleep~1+totwrk+age+smsa', data=df)\n",
    "# подгонка модели\n",
    "res = mod.fit()"
   ]
  },
  {
   "cell_type": "code",
   "execution_count": null,
   "metadata": {},
   "outputs": [],
   "source": [
    "# параметры подогнанной модели регрессии с округлением\n",
    "res.params.round(2)"
   ]
  },
  {
   "cell_type": "markdown",
   "metadata": {},
   "source": [
    "## Прогнозирование"
   ]
  },
  {
   "cell_type": "code",
   "execution_count": null,
   "metadata": {},
   "outputs": [],
   "source": [
    "# Создадим датафрейм с новыми данными регрессоров для прогноза\n",
    "new_data = pd.DataFrame({'totwrk': [2150, 1950, 2240], 'age': [37, 26, 28], 'smsa': [1, 0, 1] })\n",
    "new_data"
   ]
  },
  {
   "cell_type": "code",
   "execution_count": null,
   "metadata": {},
   "outputs": [],
   "source": [
    "# Прогноз\n",
    "res.predict(exog=new_data, transform=True).round(2)"
   ]
  }
 ],
 "metadata": {
  "kernelspec": {
   "display_name": "base",
   "language": "python",
   "name": "python3"
  },
  "language_info": {
   "codemirror_mode": {
    "name": "ipython",
    "version": 3
   },
   "file_extension": ".py",
   "mimetype": "text/x-python",
   "name": "python",
   "nbconvert_exporter": "python",
   "pygments_lexer": "ipython3",
   "version": "3.11.7"
  }
 },
 "nbformat": 4,
 "nbformat_minor": 2
}
