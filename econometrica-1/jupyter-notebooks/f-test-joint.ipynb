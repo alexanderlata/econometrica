{
 "cells": [
  {
   "cell_type": "markdown",
   "metadata": {},
   "source": [
    "# F-тест: совместная значимость"
   ]
  },
  {
   "cell_type": "code",
   "execution_count": null,
   "metadata": {},
   "outputs": [],
   "source": [
    "import pandas as pd\n",
    "import numpy as np\n",
    "\n",
    "from statsmodels.formula.api import ols\n",
    "from statsmodels.iolib.summary2 import summary_col # вывод результатов тестирования\n",
    "\n",
    "from scipy.stats import f # f-распределение и критические значения\n",
    "\n",
    "# Не показывать Warnings\n",
    "import warnings\n",
    "warnings.simplefilter(action='ignore', category=Warning)"
   ]
  },
  {
   "cell_type": "markdown",
   "metadata": {},
   "source": [
    "<div style=\"background-color:Bisque; color:DarkBlue; padding:30px;\">\n",
    "\n",
    "<i><b><span style=\"color: purple\">Совместная значимость</span> </b><br>\n",
    "\n",
    "Для линейной регрессии\n",
    "\n",
    "$$\n",
    "\t(\\log)y=\\beta_0+\\beta_1(\\log)x_1+\\cdots+\\beta_k(\\log)x_k+u=x^\\top \\beta+u\n",
    "$$\n",
    "\n",
    "Тестируется гипотеза, что несколько коэффициентов совместно равны нулю в генеральной совокупности. Например, последние $J$ коэффициентов\n",
    "\n",
    "$$\n",
    "H_0:\\beta_{k-J+1}=\\cdots=\\beta_k=0\n",
    "$$\n",
    "\n",
    "__Интерпретация__: включённые в модель регрессоры совместно не влияют на зависимую переменную (в генеральной совокупности)\n",
    "\n",
    "__Тестовая статистика__ для выбранной оценки ковариационной матрицы $\\hat{V}$ формула для F-статистики (всё вычисляется автоматически!)\n",
    "\n",
    "$$\n",
    "\\begin{aligned}\n",
    "\tF&=\\frac{1}{J}(R\\widehat{\\beta})^\\top\n",
    "\t\\Bigl(R\\cdot\\hat{V}\\cdot R^\\top\\Bigr)^{-1}\n",
    "\t(R\\widehat{\\beta}) &\n",
    "\t\\underset{J \\times (k+1)}{R}&=\n",
    "\t\\begin{pmatrix} \n",
    "\t0 & \\cdots & 0 & 1 & 0 & \\cdots & 0 \\\\ \n",
    "\t0 & \\cdots & 0 & 0 & 1 & \\cdots & 0 \\\\\n",
    "\t\\vdots & \\ddots & \\vdots & \\vdots & \\vdots & \\ddots & \\vdots \\\\\n",
    "\t0 & \\cdots & 0 & 0 & 0 & \\cdots & 1\n",
    "\t\\end{pmatrix}=\\begin{pmatrix} 0_{J\\times (k+1-J)} & I_{J\\times J}\\end{pmatrix}\n",
    "\\end{aligned}\n",
    "$$\n",
    "\n",
    "__Критическое значение__: $F$-распределения со степенями свободы ($k$ - число объясняющих переменных)\n",
    "\n",
    "$$ \n",
    "\\begin{aligned} \n",
    "\tdf_1&=dfn=J & df_2&=dfd=n-k-1\n",
    "\\end{aligned}\n",
    "$$\n",
    "\n",
    "__Замечание__: \n",
    "* для F-тест есть неробастный (по умолчанию) и робастный вариант\n",
    "* для подогнанной регрессии используем метод `.f_test(r_matrix)` или `.wald_test(r_matrix, use_f=True)`\n",
    "* тестируемую гипотезу задаём в виде `'x1=x2=0'` или `'x1=0,x2=0'` (параметр `r_matrix`) \n",
    "\n",
    "__Вывод__\n",
    "\n",
    "**<span style=\"color:purple\">Способ 1:</span>** используем $F$-статистику\n",
    "\n",
    "* Отвергаем гипотезу $H_0$ при $F>F_{cr}$, <i><b><span style=\"color: purple\">совместное влияния значимо</span></b><br>\n",
    "* Не отвергаем гипотезу $H_0$ при $F<F_{cr}$, <i><b><span style=\"color: purple\">совместное влияния незначимо</span> </b><br>\n",
    "\n",
    "**<span style=\"color:purple\">Способ 2:</span>** используем $P-value$\n",
    "\n",
    "* Отвергаем гипотезу $H_0$  при $P<\\alpha$, <i><b><span style=\"color: purple\">совместное влияния значимо</span> </b><br>\n",
    "* Не отвергаем гипотезу $H_0$ при $P>\\alpha$, <i><b><span style=\"color: purple\">совместное влияния незначимо</span> </b><br>\n",
    "\n",
    "</div>"
   ]
  },
  {
   "cell_type": "markdown",
   "metadata": {},
   "source": [
    "Для набора данных `sleep75` рассмотрим линейную регрессию __sleep~totwrk+age+male+south+smsa+yngkid+marr+union__\n",
    "\n",
    "Тестируем совместную значимость __smsa, yngkid, marr, union__\n",
    "\n",
    "$$\n",
    "\tH_0:\\beta_{smsa}=\\beta_{yngkid}=\\beta_{marr}=\\beta_{union}=0\n",
    "$$\n",
    "\n",
    "Для этой гипотезы $J=4$"
   ]
  },
  {
   "cell_type": "code",
   "execution_count": null,
   "metadata": {},
   "outputs": [],
   "source": [
    "# импорт данных\n",
    "df = pd.read_csv('sleep75.csv')"
   ]
  },
  {
   "cell_type": "markdown",
   "metadata": {},
   "source": [
    "## F-тест (неробастный)\n",
    "\n",
    "Используем OLS-оценку ковариационной матрицы $\\hat{V}=s^2(X^\\top X)^{-1}$"
   ]
  },
  {
   "cell_type": "code",
   "execution_count": null,
   "metadata": {},
   "outputs": [],
   "source": [
    "# спецификация модели через формулу\n",
    "mod = ols(formula='sleep~1+totwrk+age+male+south+smsa+yngkid+marr+union', data=df)\n",
    "# подгонка модели с неробастной оценкой ковариационной матрицы\n",
    "res_ols = mod.fit()"
   ]
  },
  {
   "cell_type": "code",
   "execution_count": null,
   "metadata": {},
   "outputs": [],
   "source": [
    "F_test = res_ols.f_test('smsa=yngkid=marr=union=0')\n",
    "print(F_test)"
   ]
  },
  {
   "cell_type": "code",
   "execution_count": null,
   "metadata": {},
   "outputs": [],
   "source": [
    "# Тестовая статистика и её P-значение\n",
    "F_test.statistic, F_test.pvalue"
   ]
  },
  {
   "cell_type": "code",
   "execution_count": null,
   "metadata": {},
   "outputs": [],
   "source": [
    "# уровень значимости\n",
    "sign_level = 0.05\n",
    "# Критическое значение F-распределения\n",
    "f.ppf(q=1-sign_level, dfn=F_test.df_num, dfd=F_test.df_denom)"
   ]
  },
  {
   "cell_type": "code",
   "execution_count": null,
   "metadata": {},
   "outputs": [],
   "source": [
    "# степени свободы \n",
    "F_test.df_num, F_test.df_denom"
   ]
  },
  {
   "cell_type": "code",
   "execution_count": null,
   "metadata": {},
   "outputs": [],
   "source": [
    "# альтернативно\n",
    "W_test = res_ols.wald_test('smsa=0, yngkid=0, marr=0, union=0', use_f=True)\n",
    "print(W_test)"
   ]
  },
  {
   "cell_type": "markdown",
   "metadata": {},
   "source": [
    "## Вывод\n",
    "\n",
    "<div style=\"background-color:Bisque; color:DarkBlue; padding:30px;\">\n",
    "\n",
    "Не отвергаем гипотезу $H_0$ (т.к. $F<F_{cr}$ или $P>\\alpha$), <i><b><span style=\"color: purple\">совместное влияния незначимо</span></b><br>\n",
    "\n",
    "</div>"
   ]
  },
  {
   "cell_type": "markdown",
   "metadata": {},
   "source": [
    "## F-тест (робастный)\n",
    "\n",
    "Используем HC3-оценку ковариационной матрицы"
   ]
  },
  {
   "cell_type": "code",
   "execution_count": null,
   "metadata": {},
   "outputs": [],
   "source": [
    "# спецификация модели через формулу\n",
    "mod = ols(formula='sleep~1+totwrk+age+male+south+smsa+yngkid+marr+union', data=df)\n",
    "# подгонка модели с робастной HC3-оценкой ковариационной матрицы\n",
    "res_hc = mod.fit(cov_type='HC3')"
   ]
  },
  {
   "cell_type": "code",
   "execution_count": null,
   "metadata": {},
   "outputs": [],
   "source": [
    "# альтернативная спецификация тестируемой гипотезы\n",
    "F_test = res_hc.f_test('smsa=0, yngkid=0, marr=0, union=0')\n",
    "print(F_test)"
   ]
  },
  {
   "cell_type": "code",
   "execution_count": null,
   "metadata": {},
   "outputs": [],
   "source": [
    "# Тестовая статистика и её P-значение\n",
    "F_test.statistic, F_test.pvalue"
   ]
  },
  {
   "cell_type": "code",
   "execution_count": null,
   "metadata": {},
   "outputs": [],
   "source": [
    "# уровень значимости\n",
    "sign_level = 0.05\n",
    "# Критическое значение F-распределения\n",
    "f.isf(q=sign_level, dfn=F_test.df_num, dfd=F_test.df_denom)"
   ]
  },
  {
   "cell_type": "code",
   "execution_count": null,
   "metadata": {},
   "outputs": [],
   "source": [
    "# альтернативно\n",
    "W_test = res_hc.wald_test('smsa=0, yngkid=0, marr=0, union=0', use_f=True)\n",
    "print(W_test)"
   ]
  },
  {
   "cell_type": "markdown",
   "metadata": {},
   "source": [
    "## Вывод\n",
    "\n",
    "<div style=\"background-color:Bisque; color:DarkBlue; padding:30px;\">\n",
    "\n",
    "Не отвергаем гипотезу $H_0$ (т.к. $F<F_{cr}$ или $P>\\alpha$), <i><b><span style=\"color: purple\">совместное влияния незначимо</span></b><br>\n",
    "\n",
    "</div>"
   ]
  }
 ],
 "metadata": {
  "kernelspec": {
   "display_name": "base",
   "language": "python",
   "name": "python3"
  },
  "language_info": {
   "codemirror_mode": {
    "name": "ipython",
    "version": 3
   },
   "file_extension": ".py",
   "mimetype": "text/x-python",
   "name": "python",
   "nbconvert_exporter": "python",
   "pygments_lexer": "ipython3",
   "version": "3.12.3"
  }
 },
 "nbformat": 4,
 "nbformat_minor": 2
}
