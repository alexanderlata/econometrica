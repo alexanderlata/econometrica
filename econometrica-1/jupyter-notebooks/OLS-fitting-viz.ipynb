{
 "cells": [
  {
   "cell_type": "markdown",
   "metadata": {},
   "source": [
    "# Визуализация подгонки линейной регрессии методом OLS"
   ]
  },
  {
   "cell_type": "code",
   "execution_count": null,
   "metadata": {},
   "outputs": [],
   "source": [
    "import numpy as np\n",
    "import pandas as pd\n",
    "\n",
    "from statsmodels.formula.api import ols\n",
    "\n",
    "import seaborn as sns\n",
    "import plotly.express as px\n",
    "import plotly.graph_objects as go\n",
    "\n",
    "# Не показывать Warnings\n",
    "import warnings\n",
    "warnings.simplefilter(action='ignore', category=Warning)"
   ]
  },
  {
   "cell_type": "code",
   "execution_count": null,
   "metadata": {},
   "outputs": [],
   "source": [
    "# импорт данных из файла как DataFrame\n",
    "df = pd.read_csv('../datasets/Labour.csv')"
   ]
  },
  {
   "cell_type": "markdown",
   "metadata": {},
   "source": [
    "## Пример 1: регрессия без константы\n",
    "\n",
    "Рассмотрим регрессию `output на capital` __без константы__"
   ]
  },
  {
   "cell_type": "code",
   "execution_count": null,
   "metadata": {},
   "outputs": [],
   "source": [
    "# спецификация модели через формулу\n",
    "mod1 = ols(formula='output~0+capital', data=df)\n",
    "# подгонка модели\n",
    "res1 = mod1.fit()\n",
    "# параметры оптимальной прямой\n",
    "res1.params"
   ]
  },
  {
   "cell_type": "code",
   "execution_count": null,
   "metadata": {},
   "outputs": [],
   "source": [
    "# выделем зависимую и объясняющую переменные\n",
    "y, X = df['output'], df['capital']\n",
    "# метрика подгонки\n",
    "MSE = np.vectorize(lambda coef: np.sum((y-coef*X)**2)/len(y) )\n",
    "# диапазон для параметра\n",
    "slope = np.arange(0, 2, 0.05)\n",
    "\n",
    "fig = px.line(x=slope, y=MSE(slope), title='Life expectancy in Canada')\n",
    "fig.add_traces(go.Scatter(x=res1.params, y=MSE(res1.params)))\n",
    "fig.show()"
   ]
  },
  {
   "cell_type": "markdown",
   "metadata": {},
   "source": [
    "## Пример 2: регрессия с константой\n",
    "\n",
    "ассмотрим регрессию `output на capital` __c константой__"
   ]
  },
  {
   "cell_type": "code",
   "execution_count": null,
   "metadata": {},
   "outputs": [],
   "source": [
    "# спецификация модели через формулу\n",
    "mod2 = ols(formula='output~1+capital', data=df)\n",
    "# подгонка модели\n",
    "res2 = mod2.fit()\n",
    "# параметры оптимальной прямой\n",
    "res2.params"
   ]
  },
  {
   "cell_type": "code",
   "execution_count": null,
   "metadata": {},
   "outputs": [],
   "source": [
    "# выделем зависимую и объясняющую переменные\n",
    "y, X = df['output'], df['capital']\n",
    "# метрика подгонки\n",
    "MSE = np.vectorize(lambda coef0, coef1: np.sum((y-coef0-coef1*X)**2)/len(y) )\n",
    "\n",
    "# диапазон для параметра\n",
    "slope = np.arange(0.5, 1, 0.05)\n",
    "intercept = np.arange(-2, 15, 0.05)\n",
    "\n",
    "coef0, coef1 = np.meshgrid(intercept, slope)\n",
    "# coef0\n",
    "Z = MSE(coef0, coef1)\n",
    "\n",
    "fig = go.Figure(data=[go.Surface(x=coef0, y=coef1, z=Z)])\n",
    "# fig.add_trace({'type':'Scatter3d', 'x':res.params[0], 'y':res.params[1], 'z':MSE(res.params[0], res.params[1])})\n",
    "fig.add_trace(go.Scatter3d(x=[res2.params[0]], y=[res2.params[1]], z=[MSE(res2.params[0], res2.params[1])]))\n",
    "fig.show()"
   ]
  }
 ],
 "metadata": {
  "kernelspec": {
   "display_name": "base",
   "language": "python",
   "name": "python3"
  },
  "language_info": {
   "codemirror_mode": {
    "name": "ipython",
    "version": 3
   },
   "file_extension": ".py",
   "mimetype": "text/x-python",
   "name": "python",
   "nbconvert_exporter": "python",
   "pygments_lexer": "ipython3",
   "version": "3.12.9"
  }
 },
 "nbformat": 4,
 "nbformat_minor": 2
}
