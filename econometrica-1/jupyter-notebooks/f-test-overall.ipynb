{
 "cells": [
  {
   "cell_type": "markdown",
   "metadata": {},
   "source": [
    "# F-тест: значимость регрессии"
   ]
  },
  {
   "cell_type": "code",
   "execution_count": null,
   "metadata": {},
   "outputs": [],
   "source": [
    "import pandas as pd\n",
    "import numpy as np\n",
    "\n",
    "from statsmodels.formula.api import ols\n",
    "from statsmodels.iolib.summary2 import summary_col # вывод результатов тестирования\n",
    "\n",
    "from scipy.stats import f # f-распределение и критические значения\n",
    "\n",
    "# Не показывать Warning\n",
    "import warnings\n",
    "warnings.simplefilter(action='ignore', category=Warning)"
   ]
  },
  {
   "cell_type": "markdown",
   "metadata": {},
   "source": [
    "<div style=\"background-color:Bisque; color:DarkBlue; padding:30px;\">\n",
    "\n",
    "<i><b><span style=\"color: purple\">Значимость регрессии </span> </b><br>\n",
    "\n",
    "Для линейной регрессии\n",
    "\n",
    "$$\n",
    "\t(\\log)y=\\beta_0+\\beta_1(\\log)x_1+\\cdots+\\beta_k(\\log)x_k+u=x^\\top \\beta+u\n",
    "$$\n",
    "\n",
    "Тестируется гипотеза\n",
    "\n",
    "$$\n",
    "\tH_0:\\beta_1=\\cdots=\\beta_k=0\n",
    "$$\n",
    "\n",
    "__Интерпретация__: включённые в модель регрессоры совместно не влияют на зависимую переменную (в генеральной совокупности)\n",
    "\n",
    "__Тестовая статистика__ для выбранной оценки ковариационной матрицы $\\hat{V}$ формула для F-статистики (всё вычисляется автоматически!)\n",
    "\n",
    "$$\n",
    "\\begin{aligned}\n",
    "\tF&=\\frac{1}{k}(R\\widehat{\\beta})^\\top\n",
    "\t\\Bigl(R\\cdot\\hat{V}\\cdot R^\\top\\Bigr)^{-1}\n",
    "\t(R\\widehat{\\beta}) &\n",
    "\t\\underset{k\\times (k+1)}{R}&=\n",
    "\t\\begin{pmatrix} \n",
    "\t0 & 1 & 0 & \\cdots & 0 \\\\ \n",
    "\t0 & 0 & 1 & \\cdots & 0 \\\\\n",
    "\t\\vdots & \\vdots & \\vdots & \\ddots & \\vdots \\\\\n",
    "\t0 & 0 & 0 & \\cdots & 1\n",
    "\t\\end{pmatrix}=\\begin{pmatrix} 0_{k\\times 1} & I_{k\\times k}\\end{pmatrix}\n",
    "\\end{aligned}\n",
    "$$\n",
    "\n",
    "__Критическое значение__: $F$-распределения со степенями свободы ($k$ - число объясняющих переменных)\n",
    "\n",
    "$$ \n",
    "\\begin{aligned} \n",
    "\tdf_1&=dfn=k & df_2&=dfd=n-k-1\n",
    "\\end{aligned}\n",
    "$$\n",
    "\n",
    "__Замечание__: \n",
    "* для F-тест есть неробастный (по умолчанию) и робастный вариант\n",
    "* для специфицированной модели\n",
    "\n",
    "<div style=\"margin-left: auto;\n",
    "            margin-right: auto;\n",
    "            width: 30%\">\n",
    "\t\t\t\n",
    "|Свойство|Значение|\n",
    "|-|-|\n",
    "|`.df_model` |$k$|\n",
    "|`.df_resid`| $n-k-1$|\n",
    "\n",
    "</div>\n",
    "\n",
    "* для подогнанной регрессии \n",
    "\n",
    "<div style=\"margin-left: auto;\n",
    "            margin-right: auto;\n",
    "            width: 30%\">\n",
    "\n",
    "|Свойство|Значение|\n",
    "|-|-|\n",
    "|`.df_model` |$k$|\n",
    "|`.df_resid`| $n-k-1$|\n",
    "|`.fvalue`|F-статистика|\n",
    "|`.f_pvalue`|P-значение для F|\n",
    "\n",
    "</div>\n",
    "\n",
    "__Вывод__\n",
    "\n",
    "**<span style=\"color:purple\">Способ 1:</span>** используем $F$-статистику\n",
    "\n",
    "* Отвергаем гипотезу $H_0$ при $F>F_{cr}$, <i><b><span style=\"color: purple\">регрессия значима</span></b><br>\n",
    "* Не отвергаем гипотезу $H_0$ при $F<F_{cr}$, <i><b><span style=\"color: purple\">регрессия незначима</span> </b><br>\n",
    "\n",
    "**<span style=\"color:purple\">Способ 2:</span>** используем $P$-value\n",
    "\n",
    "* Отвергаем гипотезу $H_0$  при $P<\\alpha$, <i><b><span style=\"color: purple\">регрессия значима</span> </b><br>\n",
    "* Не отвергаем гипотезу $H_0$ при $P>\\alpha$, <i><b><span style=\"color: purple\">регрессия незначима</span> </b><br>\n",
    "\n",
    "</div>"
   ]
  },
  {
   "cell_type": "markdown",
   "metadata": {},
   "source": [
    "Для набора данных `sleep75` рассмотрим линейную регрессию __sleep~smsa+yngkid+marr+union__\n",
    "\n",
    "Значимость регрессии: тестируем гипотезу\n",
    "\n",
    "$$\n",
    "\tH_0:\\beta_{smsa}=\\beta_{yngkid}=\\beta_{marr}=\\beta_{union}=0\n",
    "$$\n",
    "\n"
   ]
  },
  {
   "cell_type": "code",
   "execution_count": null,
   "metadata": {},
   "outputs": [],
   "source": [
    "# импорт данных\n",
    "df = pd.read_csv('sleep75.csv')"
   ]
  },
  {
   "cell_type": "markdown",
   "metadata": {},
   "source": [
    "## Значимость регрессии (неробастный вариант)\n",
    "\n",
    "Используем OLS-оценку ковариационной матрицы $\\hat{V}=s^2(X^\\top X)^{-1}$\n",
    "\n",
    "В это случаем F-статистика вычисляется по формуле\n",
    "\n",
    "$$\n",
    "\tF=\\frac{R^2}{1-R^2}\\cdot\\frac{n-k-1}{k}=\\frac{Var(\\hat{y})}{Var(e)}\\cdot\\frac{n-k-1}{k}=\n",
    "\t\\frac{ESS}{RSS}\\cdot\\frac{n-k-1}{k}\n",
    "$$"
   ]
  },
  {
   "cell_type": "code",
   "execution_count": null,
   "metadata": {},
   "outputs": [],
   "source": [
    "# спецификация модели через формулу\n",
    "mod = ols(formula='sleep~1+smsa+yngkid+marr+union', data=df)\n",
    "# подгонка модели с неробастной оценкой ковариационной матрицы\n",
    "res_ols = mod.fit()"
   ]
  },
  {
   "cell_type": "code",
   "execution_count": null,
   "metadata": {},
   "outputs": [],
   "source": [
    "# F-статистика и её P-значение\n",
    "res_ols.fvalue, res_ols.f_pvalue"
   ]
  },
  {
   "cell_type": "code",
   "execution_count": null,
   "metadata": {},
   "outputs": [],
   "source": [
    "# уровень значимости\n",
    "sign_level= 0.05\n",
    "# критическое значение\n",
    "f.isf(q=sign_level, dfn=mod.df_model, dfd=mod.df_resid)"
   ]
  },
  {
   "cell_type": "code",
   "execution_count": null,
   "metadata": {},
   "outputs": [],
   "source": [
    "# степени свободы для F-распределения\n",
    "mod.df_model, mod.df_resid"
   ]
  },
  {
   "cell_type": "markdown",
   "metadata": {},
   "source": [
    "При выведении отчёта о подгонке модели с неробастной (OLS-) оценкой ковариационной матрицы __неробастная тестовая F-статистика включается в итоговый протокол__"
   ]
  },
  {
   "cell_type": "code",
   "execution_count": null,
   "metadata": {},
   "outputs": [],
   "source": [
    "res_ols.summary(slim=True)"
   ]
  },
  {
   "cell_type": "markdown",
   "metadata": {},
   "source": [
    "## Вывод\n",
    "\n",
    "<div style=\"background-color:Bisque; color:DarkBlue; padding:30px;\">\n",
    "\n",
    "Не отвергаем гипотезу $H_0$ (т.к. $F<F_{cr}$ или $P>\\alpha$), <i><b><span style=\"color: purple\">регрессия незначима</span></b><br>\n",
    "\n",
    "</div>"
   ]
  },
  {
   "cell_type": "markdown",
   "metadata": {},
   "source": [
    "## Значимость регрессии (робастный тест)\n",
    "\n",
    "При подгонке используем HC3-оценку ковариационной матрицы "
   ]
  },
  {
   "cell_type": "code",
   "execution_count": null,
   "metadata": {},
   "outputs": [],
   "source": [
    "# спецификация модели через формулу\n",
    "mod = ols(formula='sleep~1+smsa+yngkid+marr+union', data=df)\n",
    "# подгонка модели с робастной HC3-оценкой ковариационной матрицы\n",
    "res_hc = mod.fit(cov_type='HC3')"
   ]
  },
  {
   "cell_type": "code",
   "execution_count": null,
   "metadata": {},
   "outputs": [],
   "source": [
    "# робастная F-статистика и её P-значение\n",
    "res_hc.fvalue, res_hc.f_pvalue"
   ]
  },
  {
   "cell_type": "code",
   "execution_count": null,
   "metadata": {},
   "outputs": [],
   "source": [
    "# уровень значимости\n",
    "sign_level= 0.05\n",
    "# критическое значение\n",
    "f.isf(q=sign_level, dfn=mod.df_model, dfd=mod.df_resid)"
   ]
  },
  {
   "cell_type": "markdown",
   "metadata": {},
   "source": [
    "При выведении отчёта о подгонке модели с робастной оценкой ковариационной матрицы __робастная тестовая F-статистика включается в итоговый протокол__"
   ]
  },
  {
   "cell_type": "code",
   "execution_count": null,
   "metadata": {},
   "outputs": [],
   "source": [
    "res_hc.summary(slim=True)"
   ]
  },
  {
   "cell_type": "markdown",
   "metadata": {},
   "source": [
    "## Вывод\n",
    "\n",
    "<div style=\"background-color:Bisque; color:DarkBlue; padding:30px;\">\n",
    "\n",
    "Не отвергаем гипотезу $H_0$ (т.к. $F<F_{cr}$ или $P>\\alpha$), <i><b><span style=\"color: purple\">регрессия незначима</span></b><br>\n",
    "\n",
    "</div>"
   ]
  }
 ],
 "metadata": {
  "kernelspec": {
   "display_name": "base",
   "language": "python",
   "name": "python3"
  },
  "language_info": {
   "codemirror_mode": {
    "name": "ipython",
    "version": 3
   },
   "file_extension": ".py",
   "mimetype": "text/x-python",
   "name": "python",
   "nbconvert_exporter": "python",
   "pygments_lexer": "ipython3",
   "version": "3.12.3"
  }
 },
 "nbformat": 4,
 "nbformat_minor": 2
}
