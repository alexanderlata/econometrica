{
 "cells": [
  {
   "cell_type": "code",
   "execution_count": null,
   "id": "e1b66fed",
   "metadata": {},
   "outputs": [],
   "source": [
    "import pandas as pd\n",
    "\n",
    "from linearmodels import PooledOLS          # Pooled model\n",
    "from linearmodels import RandomEffects      # Random-effect model\n",
    "from linearmodels import PanelOLS           # Fixed-effect model\n",
    "from linearmodels import FirstDifferenceOLS # First difference model\n",
    "\n",
    "from linearmodels.panel import compare # Compare the results of multiple models"
   ]
  },
  {
   "cell_type": "code",
   "execution_count": null,
   "id": "eacc4f9d",
   "metadata": {},
   "outputs": [],
   "source": [
    "# Загрузим данные\n",
    "df = pd.read_csv('../datasets/panels-plm/Wages.csv')\n",
    "df.head(20)"
   ]
  },
  {
   "cell_type": "code",
   "execution_count": null,
   "id": "ee4a04a8",
   "metadata": {},
   "outputs": [],
   "source": [
    "# Зададим структуру панельных данных\n",
    "panel_df = df.set_index(['id', 'time'])\n",
    "panel_df.head(20)"
   ]
  },
  {
   "cell_type": "code",
   "execution_count": null,
   "id": "d602eff7",
   "metadata": {},
   "outputs": [],
   "source": [
    "panel_df['d_wks'] = panel_df.groupby(level=0)['wks'].diff()\n",
    "panel_df.head(20)"
   ]
  },
  {
   "cell_type": "code",
   "execution_count": null,
   "id": "968c7cba",
   "metadata": {},
   "outputs": [],
   "source": [
    "panel_df['lag_wks'] = panel_df.groupby(level=0)['wks'].shift()\n",
    "panel_df.head(20)"
   ]
  }
 ],
 "metadata": {
  "kernelspec": {
   "display_name": "Python 3 (ipykernel)",
   "language": "python",
   "name": "python3"
  },
  "language_info": {
   "codemirror_mode": {
    "name": "ipython",
    "version": 3
   },
   "file_extension": ".py",
   "mimetype": "text/x-python",
   "name": "python",
   "nbconvert_exporter": "python",
   "pygments_lexer": "ipython3",
   "version": "3.12.7"
  }
 },
 "nbformat": 4,
 "nbformat_minor": 5
}
