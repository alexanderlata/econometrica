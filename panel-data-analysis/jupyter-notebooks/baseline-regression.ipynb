{
 "cells": [
  {
   "cell_type": "markdown",
   "metadata": {},
   "source": [
    "# Panel data analysis with Python"
   ]
  },
  {
   "cell_type": "code",
   "execution_count": null,
   "metadata": {},
   "outputs": [],
   "source": [
    "import numpy as np\n",
    "import pandas as pd\n",
    "\n",
    "from linearmodels import PooledOLS          # Pooled model\n",
    "from linearmodels import RandomEffects      # Random-effect model\n",
    "from linearmodels import PanelOLS           # Fixed-effect model\n",
    "from linearmodels import FirstDifferenceOLS # First difference model\n",
    "\n",
    "from linearmodels.panel import compare      # Compare the results of multiple models\n",
    "from statsmodels.api import add_constant    # for matrices of regression design"
   ]
  },
  {
   "cell_type": "markdown",
   "metadata": {},
   "source": [
    "## Подготовка панельного датасета\n",
    "\n",
    "Рассмотрим датасет `Gasoline`. Загрузим из файла как DataFrame"
   ]
  },
  {
   "cell_type": "code",
   "execution_count": null,
   "metadata": {},
   "outputs": [],
   "source": [
    "df = pd.read_csv('../datasets/panels-plm/Gasoline.csv')\n",
    "df.head()"
   ]
  },
  {
   "cell_type": "markdown",
   "metadata": {},
   "source": [
    "Для задания панельной структуры необходимо задать мульти-индекс поверх обычного датафрейма\n",
    "\n",
    "Используем метод `.set_index(['country', 'year'])` (Порядок индексов важен! Сначала индивидуальный, потом временной)"
   ]
  },
  {
   "cell_type": "code",
   "execution_count": null,
   "metadata": {},
   "outputs": [],
   "source": [
    "panel_df = df.set_index(['country', 'year'])\n",
    "panel_df.head()"
   ]
  },
  {
   "cell_type": "markdown",
   "metadata": {},
   "source": [
    "## Подгонка модели через формулу\n",
    "\n",
    "__Важно__ в формуле обязательно нужно указать `1+` для учёта константы: `endog~1+exog1+...`. Иначе будет оцениваться _модель без константы_\n",
    "\n",
    "### Модель Пула (OLS-оценивание)"
   ]
  },
  {
   "cell_type": "code",
   "execution_count": null,
   "metadata": {},
   "outputs": [],
   "source": [
    "mod_pl = PooledOLS.from_formula(formula='lgaspcar~1+lincomep+lrpmg+lcarpcap', data=panel_df)\n",
    "res_pl = mod_pl.fit()\n",
    "res_pl"
   ]
  },
  {
   "cell_type": "markdown",
   "metadata": {},
   "source": [
    "### Модель Случайных эффектов/Random Effects/RE (GLS-оценивание)"
   ]
  },
  {
   "cell_type": "code",
   "execution_count": null,
   "metadata": {},
   "outputs": [],
   "source": [
    "mod_re = RandomEffects.from_formula(formula='lgaspcar~1+lincomep+lrpmg+lcarpcap', data=panel_df)\n",
    "res_re = mod_re.fit()\n",
    "res_re"
   ]
  },
  {
   "cell_type": "markdown",
   "metadata": {},
   "source": [
    "### Модель Фиксированных эффектов/Fixed Effects/FE (Within-оценка)\n",
    "\n",
    "- нужно указать `drop_absorbed=True` для автоматического удаление постоянных во времени переменных (иначе будет сообщение об ошибке в случае наличия таковых)\n",
    "- в спецификацию нужно добавить в конце `+EntityEffects` для учёта индивидуальных эффектов и `+TimeEffects` для учёта временных эффектов (иначе будут OLS-оценки коэффициентов)"
   ]
  },
  {
   "cell_type": "code",
   "execution_count": null,
   "metadata": {},
   "outputs": [],
   "source": [
    "mod_fe = PanelOLS.from_formula(formula='lgaspcar~1+lincomep+lrpmg+lcarpcap+EntityEffects', data=panel_df, drop_absorbed=True)\n",
    "res_fe = mod_fe.fit()\n",
    "res_fe"
   ]
  },
  {
   "cell_type": "markdown",
   "metadata": {},
   "source": [
    "### Модель Фиксированных эффектов/Fixed Effects/FE (FD-оценка)\n",
    "\n",
    "__Важно__ не включаем константу"
   ]
  },
  {
   "cell_type": "code",
   "execution_count": null,
   "metadata": {},
   "outputs": [],
   "source": [
    "mod_fd = FirstDifferenceOLS.from_formula(formula='lgaspcar~lincomep+lrpmg+lcarpcap', data=panel_df)\n",
    "res_fd = mod_fd.fit()\n",
    "res_fd"
   ]
  },
  {
   "cell_type": "markdown",
   "metadata": {},
   "source": [
    "## Панельные регрессии с робастными инференциями\n",
    "\n",
    "Подгоним модели с оценкой ковариационной матрицы Ареллано-Бонда\n",
    "\n",
    "Используем метод `.fit(cov_type='clustered', cluster_entity=True)`\n",
    "\n",
    "Выведем результаты подгонки в одной таблице (t-статистик в скобках)"
   ]
  },
  {
   "cell_type": "code",
   "execution_count": null,
   "metadata": {},
   "outputs": [],
   "source": [
    "mod_pl = PooledOLS.from_formula(formula='lgaspcar~1+lincomep+lrpmg+lcarpcap', data=panel_df)\n",
    "mod_re = RandomEffects.from_formula(formula='lgaspcar~1+lincomep+lrpmg+lcarpcap', data=panel_df)\n",
    "mod_fe = PanelOLS.from_formula(formula='lgaspcar~1+lincomep+lrpmg+lcarpcap+EntityEffects', data=panel_df)\n",
    "mod_fd = FirstDifferenceOLS.from_formula(formula='lgaspcar~lincomep+lrpmg+lcarpcap', data=panel_df)\n",
    "\n",
    "res_pl = mod_pl.fit(cov_type='clustered', cluster_entity=True)\n",
    "res_re = mod_re.fit(cov_type='clustered', cluster_entity=True)\n",
    "res_fe = mod_fe.fit(cov_type='clustered', cluster_entity=True)\n",
    "res_fd = mod_fd.fit(cov_type='clustered', cluster_entity=True)\n",
    "\n",
    "compare({'Pool': res_pl, 'RE': res_re, 'FE': res_fe, 'FD':res_fd}, stars=True)"
   ]
  },
  {
   "cell_type": "markdown",
   "metadata": {},
   "source": [
    "Подгоним модели с оценкой ковариационной матрицы Дрисколла-Края\n",
    "\n",
    "Используем метод `.fit(cov_type='kernel')` \n",
    "\n",
    "Выведем результаты подгонки в одной таблице (стандартные ошибки в скобках)"
   ]
  },
  {
   "cell_type": "code",
   "execution_count": null,
   "metadata": {},
   "outputs": [],
   "source": [
    "mod_pl = PooledOLS.from_formula(formula='lgaspcar~1+lincomep+lrpmg+lcarpcap', data=panel_df)\n",
    "mod_re = RandomEffects.from_formula(formula='lgaspcar~1+lincomep+lrpmg+lcarpcap', data=panel_df)\n",
    "mod_fe = PanelOLS.from_formula(formula='lgaspcar~1+lincomep+lrpmg+lcarpcap+EntityEffects', data=panel_df)\n",
    "mod_fd = FirstDifferenceOLS.from_formula(formula='lgaspcar~lincomep+lrpmg+lcarpcap', data=panel_df)\n",
    "\n",
    "res_pl = mod_pl.fit(cov_type='kernel')\n",
    "res_re = mod_re.fit(cov_type='kernel')\n",
    "res_fe = mod_fe.fit(cov_type='kernel')\n",
    "res_fd = mod_fd.fit(cov_type='kernel')\n",
    "\n",
    "compare({'Pool': res_pl, 'RE': res_re, 'FE': res_fe, 'FD':res_fd}, stars=True, precision='std_errors')"
   ]
  },
  {
   "cell_type": "markdown",
   "metadata": {},
   "source": [
    "## Подгонка моделей через матрицы регрессионного дизайна\n",
    "\n",
    "__Замечание__ предварительно необходимо удалить наблюдения с пропущенными значениями"
   ]
  },
  {
   "cell_type": "code",
   "execution_count": null,
   "metadata": {},
   "outputs": [],
   "source": [
    "dependent = ['lgaspcar']\n",
    "regressors = ['lincomep', 'lrpmg', 'lcarpcap']\n",
    "\n",
    "y = panel_df[dependent+regressors].dropna()[dependent]\n",
    "X = add_constant( panel_df[dependent+regressors].dropna()[regressors] )\n",
    "# For FD-estimator we do not include intercept\n",
    "X_fd = panel_df[dependent+regressors].dropna()[regressors]"
   ]
  },
  {
   "cell_type": "code",
   "execution_count": null,
   "metadata": {},
   "outputs": [],
   "source": [
    "mod_pl = PooledOLS(y, X)\n",
    "mod_re = RandomEffects(y, X)\n",
    "mod_fe = PanelOLS(y, X, entity_effects=True, drop_absorbed=True)\n",
    "mod_fd = FirstDifferenceOLS(y, X_fd)\n",
    "\n",
    "res_pl = mod_pl.fit()\n",
    "res_re = mod_re.fit()\n",
    "res_fe = mod_fe.fit()\n",
    "res_fd = mod_fd.fit()"
   ]
  },
  {
   "cell_type": "code",
   "execution_count": null,
   "metadata": {},
   "outputs": [],
   "source": [
    "compare({'Pool': res_pl, 'RE': res_re, 'FE': res_fe, 'FD':res_fd}, stars=True, precision='std_errors')"
   ]
  }
 ],
 "metadata": {
  "kernelspec": {
   "display_name": "Python 3 (ipykernel)",
   "language": "python",
   "name": "python3"
  },
  "language_info": {
   "codemirror_mode": {
    "name": "ipython",
    "version": 3
   },
   "file_extension": ".py",
   "mimetype": "text/x-python",
   "name": "python",
   "nbconvert_exporter": "python",
   "pygments_lexer": "ipython3",
   "version": "3.12.7"
  }
 },
 "nbformat": 4,
 "nbformat_minor": 4
}
