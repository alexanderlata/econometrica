{
 "cells": [
  {
   "cell_type": "markdown",
   "id": "5ff34f00",
   "metadata": {},
   "source": [
    "# Dynamic panel regression (Anderson-Hsiao estimator)"
   ]
  },
  {
   "cell_type": "code",
   "execution_count": null,
   "id": "7c05fdd3",
   "metadata": {},
   "outputs": [],
   "source": [
    "import numpy as np\n",
    "import pandas as pd\n",
    "\n",
    "from linearmodels import PooledOLS          # Pooled model\n",
    "from linearmodels import RandomEffects      # Random-effect model\n",
    "from linearmodels import PanelOLS           # Fixed-effect model\n",
    "from linearmodels import IVGMM              # IV-method"
   ]
  },
  {
   "cell_type": "markdown",
   "id": "553190b3",
   "metadata": {},
   "source": [
    "Для датасета `Gasoline` рассмотрим е=регрессию **lgaspcar на lincomep+lrpmg+lcarpcaps**\n",
    "\n",
    "Спецификация динамической регрессии\n",
    "\n",
    "$$\n",
    "\tlgaspcar_{it}=\\alpha+\\gamma lgaspcar_{i,t-1}+\\beta_1 lincomep_{it}+\\beta_2 lrpmg_{it}+\\beta_3 lcarpcaps_{it}+\\mu_i+\\varepsilon_{it}\n",
    "$$\n",
    "\n",
    "Метод оценивания Anderson-Hsiao:\n",
    "\n",
    "* запишем модель в первых разностях (FD-преобразование) \n",
    "\n",
    "$$\n",
    "\t\\Delta lgaspcar_{it}=\\gamma\\Delta lgaspcar_{i,t-1}+\\beta_1\\Delta lincomep_{it}+\\beta_2\\Delta lrpmg_{it}+\\beta_3\\Delta lcarpcaps_{it}+error\n",
    "$$\n",
    "* применяем IV-оценки, используя $y_{i,t-2}$ или $\\Delta y_{i,t-2}$ как инструменты для $\\Delta y_{i,t-1}$"
   ]
  },
  {
   "cell_type": "markdown",
   "id": "173993e5",
   "metadata": {},
   "source": [
    "# Оценка 1"
   ]
  },
  {
   "cell_type": "code",
   "execution_count": null,
   "id": "00b14c4a",
   "metadata": {},
   "outputs": [],
   "source": [
    "df = pd.read_csv('../datasets/panels-plm/Gasoline.csv')\n",
    "panel = df.set_index(['country', 'year'])"
   ]
  },
  {
   "cell_type": "markdown",
   "id": "56df1385",
   "metadata": {},
   "source": [
    "Используем $y_{i,t-2}$ как инструмент для $\\Delta y_{i,t-1}$\n",
    "\n",
    "Добавим преобразованные переменные в датасет для FD-уравнения\n",
    "\n",
    "* зависимая переменная $\\Delta lgaspcar_{it}$ (`d_lgaspcar`)\n",
    "* лаг зависимой переменной $\\Delta lgaspcar_{i,t-1}$ (`lag_d_lgaspcar`) (эндогенный регрессор)\n",
    "* экзогенные регрессоры $\\Delta lincomep_{it},\\Delta lrpmg_{it},\\Delta lcarpcaps_{it}$ (`d_lincomep`, `d_lrpmg`, `d_lcarpcaps`)\n",
    "* инструментальная переменная $lgaspcar_{i,t-2}$ (`lag2_lgaspcar`)"
   ]
  },
  {
   "cell_type": "code",
   "execution_count": null,
   "id": "50ec8957",
   "metadata": {},
   "outputs": [],
   "source": [
    "panel['d_lgaspcar'] = panel['lgaspcar'].groupby(level=0).diff()\n",
    "panel['lag_d_lgaspcar'] = panel['d_lgaspcar'].groupby(level=0).shift()\n",
    "panel[['d_lincomep', 'd_lrpmg', 'd_lcarpcap']] = panel[['lincomep', 'lrpmg', 'lcarpcap']].groupby(level=0).diff()\n",
    "panel['lag2_lgaspcar'] = panel['lgaspcar'].groupby(level=0).shift(periods=2)"
   ]
  },
  {
   "cell_type": "markdown",
   "id": "69291279",
   "metadata": {},
   "source": [
    "Подгоним модель через формулу \n",
    "\n",
    "обратим внимание как включаем формулу `lag2_lgaspcar` как инструмент для `lad_d_lgaspcar`\n",
    "\n",
    "*Замечание* используем `.dropna()` для удаления пропущенных значений (IVGMM не удаляет их самостоятельно!)"
   ]
  },
  {
   "cell_type": "code",
   "execution_count": null,
   "id": "f9d27039",
   "metadata": {},
   "outputs": [],
   "source": [
    "mod_dyn = IVGMM.from_formula(formula='d_lgaspcar~[lag_d_lgaspcar~lag2_lgaspcar]+d_lincomep+d_lrpmg+d_lcarpcap', data=panel.dropna())\n",
    "res_dyn = mod_dyn.fit()\n",
    "res_dyn.params.round(3)"
   ]
  },
  {
   "cell_type": "code",
   "execution_count": null,
   "id": "f5366eb3",
   "metadata": {},
   "outputs": [],
   "source": [
    "res_dyn.summary"
   ]
  },
  {
   "cell_type": "markdown",
   "id": "9fe714f0",
   "metadata": {},
   "source": [
    "# Оценка 2"
   ]
  },
  {
   "cell_type": "code",
   "execution_count": null,
   "id": "aaa15c24",
   "metadata": {},
   "outputs": [],
   "source": [
    "df = pd.read_csv('../datasets/panels-plm/Gasoline.csv')\n",
    "panel = df.set_index(['country', 'year'])"
   ]
  },
  {
   "cell_type": "markdown",
   "id": "af1be8a5",
   "metadata": {},
   "source": [
    "Используем $\\Delta y_{i,t-2}$ как инструмент для $\\Delta y_{i,t-1}$\n",
    "\n",
    "Добавим преобразованные переменные в датасет для FD-уравнения\n",
    "\n",
    "* зависимая переменная $\\Delta lgaspcar_{it}$ (`d_lgaspcar`)\n",
    "* лаг зависимой переменной $\\Delta lgaspcar_{i,t-1}$ (`lad_d_lgaspcar`) (эндогенный регрессор)\n",
    "* экзогенные регрессоры $\\Delta lincomep_{it},\\Delta lrpmg_{it},\\Delta lcarpcaps_{it}$ (`d_lincomep`, `d_lrpmg`, `d_lcarpcaps`)\n",
    "* инструментальная переменная $\\Delta lgaspcar_{i,t-2}$ (`lad2_d_lgaspcar`)"
   ]
  },
  {
   "cell_type": "code",
   "execution_count": null,
   "id": "66053918",
   "metadata": {},
   "outputs": [],
   "source": [
    "panel['d_lgaspcar'] = panel['lgaspcar'].groupby(level=0).diff()\n",
    "panel['lad_d_lgaspcar'] = panel['d_lgaspcar'].groupby(level=0).shift()\n",
    "panel[['d_lincomep','d_lrpmg', 'd_lcarpcap']] = panel[['lincomep', 'lrpmg', 'lcarpcap']].groupby(level=0).diff()\n",
    "panel['lad2_d_lgaspcar'] = panel['d_lgaspcar'].groupby(level=0).shift(periods=2)"
   ]
  },
  {
   "cell_type": "markdown",
   "id": "54a4c46c",
   "metadata": {},
   "source": [
    "Подгоним модель через формулу \n",
    "\n",
    "обратим внимание как включаем формулу `lad2_d_lgaspcar` как инструмент для `lad_d_lgaspcar`\n",
    "\n",
    "*Замечание* используем `.dropna()` для удаления пропущенных значений (IVGMM не удаляет их самостоятельно!)"
   ]
  },
  {
   "cell_type": "code",
   "execution_count": null,
   "id": "12051b0a",
   "metadata": {},
   "outputs": [],
   "source": [
    "mod_dyn = IVGMM.from_formula(formula='d_lgaspcar~[lad_d_lgaspcar~lad2_d_lgaspcar]+d_lincomep+d_lrpmg+d_lcarpcap', data=panel.dropna())\n",
    "res_dyn = mod_dyn.fit()\n",
    "res_dyn.params.round(3)"
   ]
  },
  {
   "cell_type": "code",
   "execution_count": null,
   "id": "e81b9ffe",
   "metadata": {},
   "outputs": [],
   "source": [
    "res_dyn.summary"
   ]
  }
 ],
 "metadata": {
  "kernelspec": {
   "display_name": "base",
   "language": "python",
   "name": "python3"
  },
  "language_info": {
   "codemirror_mode": {
    "name": "ipython",
    "version": 3
   },
   "file_extension": ".py",
   "mimetype": "text/x-python",
   "name": "python",
   "nbconvert_exporter": "python",
   "pygments_lexer": "ipython3",
   "version": "3.12.10"
  }
 },
 "nbformat": 4,
 "nbformat_minor": 5
}
