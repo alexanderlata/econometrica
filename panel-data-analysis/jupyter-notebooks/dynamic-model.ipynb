{
 "cells": [
  {
   "cell_type": "markdown",
   "id": "5ff34f00",
   "metadata": {},
   "source": [
    "# Dynamic panel regression (Anderson-Hsiao estimator)"
   ]
  },
  {
   "cell_type": "code",
   "execution_count": null,
   "id": "7c05fdd3",
   "metadata": {},
   "outputs": [],
   "source": [
    "import numpy as np\n",
    "import pandas as pd\n",
    "\n",
    "from linearmodels import PooledOLS          # Pooled model\n",
    "from linearmodels import RandomEffects      # Random-effect model\n",
    "from linearmodels import PanelOLS           # Fixed-effect model\n",
    "from linearmodels import FirstDifferenceOLS # First difference model\n",
    "from linearmodels import IVGMM              # IV-method"
   ]
  },
  {
   "cell_type": "markdown",
   "id": "553190b3",
   "metadata": {},
   "source": [
    "Consider panel `Wages` and regression **lwage на ed, exp, exp^2, wks**\n",
    "\n",
    "Specification of the dynamic panel regression \n",
    "\n",
    "$$\n",
    "\tlwage_{it}=\\alpha+\\gamma lwage_{i,t-1}+\\beta_1ed_i+\\beta_2exp_{it}+\\beta_3exp^2_{it}+\\beta_4wks_{it}+\\mu_i+\\varepsilon_{it}\n",
    "$$\n",
    "\n",
    "Anderson-Hsiao's estimation method:\n",
    "\n",
    "* We rewrite the model in first differences (we eliminate time-invariant components, FD-transformation) \n",
    "\n",
    "$$\n",
    "\t\\Delta lwage_{it}=\\gamma\\Delta lwage_{i,t-1}+\\beta_1\\Delta exp_{it}+\\beta_2\\Delta exp^2_{it}+\\beta_3\\Delta wks_{it}+error\n",
    "$$\n",
    "* We use IV-estimators, consider $y_{i,t-2}$ or $\\Delta y_{i,t-2}$ as instrumental variables for  $\\Delta y_{i,t-1}$\n",
    "\n",
    "*Remark* since $ed$ is time-invariant, then $\\Delta ed=0$. Moreover $\\Delta exp=1$"
   ]
  },
  {
   "cell_type": "code",
   "execution_count": null,
   "id": "00b14c4a",
   "metadata": {},
   "outputs": [],
   "source": [
    "df = pd.read_csv('./panels-plm/Wages.csv')\n",
    "df.head()"
   ]
  },
  {
   "cell_type": "code",
   "execution_count": null,
   "id": "2c0ba880",
   "metadata": {},
   "outputs": [],
   "source": [
    "panel_df = df.set_index(['id', 'time'])\n",
    "panel_df.head()"
   ]
  },
  {
   "cell_type": "markdown",
   "id": "56df1385",
   "metadata": {},
   "source": [
    "Let's prepare variable for the FD-equation\n",
    "\n",
    "* the dependent variable $\\Delta lwage_{it}$ (`d_lwage`)\n",
    "* lag of the dependent variable $\\Delta lwage_{i,t-1}$ (`lad_d_lwage`)\n",
    "* predictors $\\Delta exp_{it},\\Delta exp^2_{it},\\Delta wks_{it}$ (`d_exp`, `d_exp_sq`, `d_wks`)\n",
    "* instrumental variable $lwage_{i,t-2}$ (`lag2_lwage`)"
   ]
  },
  {
   "cell_type": "code",
   "execution_count": null,
   "id": "50ec8957",
   "metadata": {},
   "outputs": [],
   "source": [
    "panel_df['exp_sq'] = panel_df['exp']**2\n",
    "panel_df[['d_lwage','d_exp', 'd_exp_sq', 'd_wks']] = panel_df.groupby(level=0)[['lwage', 'exp', 'exp_sq' ,'wks']].diff()\n",
    "panel_df['lag_d_lwage'] = panel_df.groupby(level=0)['d_lwage'].shift()\n",
    "panel_df['lag2_lwage'] = panel_df.groupby(level=0)['lwage'].shift(periods=2)\n",
    "panel_df.head()"
   ]
  },
  {
   "cell_type": "markdown",
   "id": "69291279",
   "metadata": {},
   "source": [
    "We fit the model via the formula. \n",
    "\n",
    "Please, pay attention how to introduce instrument `lag2_lwage` for `lag_d_lwage` in the formula\n",
    "\n",
    "*Remark* we call `.dropna()` to delete missing values (IVGMM cannot do it by default!)"
   ]
  },
  {
   "cell_type": "code",
   "execution_count": null,
   "id": "f9d27039",
   "metadata": {},
   "outputs": [],
   "source": [
    "mod_dyn = IVGMM.from_formula(formula='d_lwage~[lag_d_lwage~lag2_lwage]+d_exp+d_exp_sq+d_wks', data=panel_df.dropna())\n",
    "\n",
    "res_dyn = mod_dyn.fit()\n",
    "res_dyn.params.round(3)"
   ]
  },
  {
   "cell_type": "markdown",
   "id": "36010612",
   "metadata": {},
   "source": [
    "## Dynamic vs FE vs RE vs FD"
   ]
  },
  {
   "cell_type": "code",
   "execution_count": null,
   "id": "c640c430",
   "metadata": {},
   "outputs": [],
   "source": [
    "panel_df['lag_lwage'] = panel_df.groupby(level=0)['lwage'].shift()"
   ]
  },
  {
   "cell_type": "code",
   "execution_count": null,
   "id": "d0451847",
   "metadata": {},
   "outputs": [],
   "source": [
    "# FE & RE & FD estimators\n",
    "mod_re = RandomEffects.from_formula(formula='lwage~1+exp+exp_sq+wks+lag_lwage', data=panel_df)\n",
    "mod_fe = PanelOLS.from_formula(formula='lwage~1+exp+exp_sq+wks+lag_lwage+EntityEffects', data=panel_df)\n",
    "mod_fd = FirstDifferenceOLS.from_formula(formula='lwage~exp+exp_sq+wks+lag_lwage', data=panel_df)\n",
    "\n",
    "res_re = mod_re.fit()\n",
    "res_fe = mod_fe.fit()\n",
    "res_fd = mod_fd.fit()\n",
    "\n",
    "# compare({'Dyn': res_dyn, 'RE': res_re, 'FE': res_fe, 'FD':res_fd}, stars=True)\n",
    "print(res_dyn.params.round(3))\n",
    "print(res_re.params.round(3))\n",
    "print(res_fe.params.round(3))\n",
    "print(res_fd.params.round(3))"
   ]
  }
 ],
 "metadata": {
  "kernelspec": {
   "display_name": "Python 3 (ipykernel)",
   "language": "python",
   "name": "python3"
  },
  "language_info": {
   "codemirror_mode": {
    "name": "ipython",
    "version": 3
   },
   "file_extension": ".py",
   "mimetype": "text/x-python",
   "name": "python",
   "nbconvert_exporter": "python",
   "pygments_lexer": "ipython3",
   "version": "3.12.7"
  }
 },
 "nbformat": 4,
 "nbformat_minor": 5
}
