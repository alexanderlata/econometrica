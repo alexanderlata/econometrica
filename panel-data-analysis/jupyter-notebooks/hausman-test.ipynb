{
 "cells": [
  {
   "cell_type": "markdown",
   "metadata": {},
   "source": [
    "# Hausman comparison test\n",
    "\n",
    "Consider a baseline model\n",
    "\n",
    "$$\n",
    "\ty_{it}=\\alpha+x_{it}^\\top\\beta+\\mu_i+\\varepsilon_{it}\n",
    "$$\n",
    "\n",
    "We test \n",
    "\n",
    "$$\n",
    "\\begin{aligned}\n",
    "\tH_0:cov(x_{it},\\mu_i)&=0 & &vs & H_1:cov(x_{it},\\mu_i)&\\ne0\n",
    "\\end{aligned}\n",
    "$$"
   ]
  },
  {
   "cell_type": "code",
   "execution_count": null,
   "metadata": {},
   "outputs": [],
   "source": [
    "import numpy as np\n",
    "import pandas as pd\n",
    "\n",
    "from linearmodels import RandomEffects      # Random-effect model\n",
    "from linearmodels import PanelOLS           # Fixed-effect model\n",
    "\n",
    "from scipy.stats import chi2"
   ]
  },
  {
   "cell_type": "code",
   "execution_count": null,
   "metadata": {},
   "outputs": [],
   "source": [
    "df = pd.read_csv('./panels-plm/Gasoline.csv')\n",
    "panel_df = df.set_index(['country', 'year'])"
   ]
  },
  {
   "cell_type": "code",
   "execution_count": null,
   "metadata": {},
   "outputs": [],
   "source": [
    "mod_re = RandomEffects.from_formula(formula='lgaspcar~1+lincomep+lrpmg+lcarpcap', data=panel_df)\n",
    "mod_fe = PanelOLS.from_formula(formula='lgaspcar~1+lincomep+lrpmg+lcarpcap+EntityEffects', data=panel_df)\n",
    "\n",
    "res_re = mod_re.fit(cov_type='clustered', cluster_entity=True)\n",
    "res_fe = mod_fe.fit(cov_type='clustered', cluster_entity=True)"
   ]
  },
  {
   "cell_type": "code",
   "execution_count": null,
   "metadata": {},
   "outputs": [],
   "source": [
    "(res_fe.params-res_re.params).T@np.linalg.inv(res_fe.cov-res_re.cov)@(res_fe.params-res_re.params)"
   ]
  },
  {
   "cell_type": "code",
   "execution_count": null,
   "metadata": {},
   "outputs": [],
   "source": [
    "chi2.isf(q=0.05, df=res_re.df_model-1)"
   ]
  }
 ],
 "metadata": {
  "kernelspec": {
   "display_name": "Python 3 (ipykernel)",
   "language": "python",
   "name": "python3"
  },
  "language_info": {
   "codemirror_mode": {
    "name": "ipython",
    "version": 3
   },
   "file_extension": ".py",
   "mimetype": "text/x-python",
   "name": "python",
   "nbconvert_exporter": "python",
   "pygments_lexer": "ipython3",
   "version": "3.12.7"
  }
 },
 "nbformat": 4,
 "nbformat_minor": 4
}
