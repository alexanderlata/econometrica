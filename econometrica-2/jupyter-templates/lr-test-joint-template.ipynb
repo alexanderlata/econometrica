{
 "cells": [
  {
   "cell_type": "markdown",
   "id": "bda5e8fb-de0e-4099-af8a-cc07f6058b58",
   "metadata": {},
   "source": [
    "# logit/probit-регрессия: LR-тест, совместная значимость"
   ]
  },
  {
   "cell_type": "code",
   "execution_count": null,
   "id": "48af9438-396e-49af-aa07-b3634f5eb7b0",
   "metadata": {},
   "outputs": [],
   "source": [
    "import numpy as np\n",
    "import pandas as pd\n",
    "from statsmodels.formula.api import logit, probit\n",
    "\n",
    "from scipy.stats import chi2 # критические значения chi2-распределения\n",
    "\n",
    "# Не показывать Warning\n",
    "import warnings\n",
    "warnings.simplefilter(action='ignore', category=Warning)\n",
    "# Не показывать ValueWarning, ConvergenceWarning из statsmodels\n",
    "from statsmodels.tools.sm_exceptions import ValueWarning, ConvergenceWarning\n",
    "warnings.simplefilter('ignore', category=ValueWarning)\n",
    "warnings.simplefilter('ignore', category=ConvergenceWarning)"
   ]
  },
  {
   "cell_type": "code",
   "execution_count": null,
   "id": "0aee7f95-33ff-44d6-a90c-7f32d53d775d",
   "metadata": {},
   "outputs": [],
   "source": [
    "# импорт данных\n",
    "df = pd.read_csv('Filename.csv')"
   ]
  },
  {
   "cell_type": "markdown",
   "id": "531ccb02-b1c6-4ebe-9681-996deb24d85e",
   "metadata": {},
   "source": [
    "## Спецификация и подгонка"
   ]
  },
  {
   "cell_type": "code",
   "execution_count": null,
   "id": "060b2d1d-e236-4ad2-8e66-1e089f7991a5",
   "metadata": {},
   "outputs": [],
   "source": [
    "mod = logit(formula = 'your specification', data = df)\n",
    "# mod = probit(formula = 'your specification', data = df)\n",
    "res = mod.fit()"
   ]
  },
  {
   "cell_type": "markdown",
   "id": "efd826ea-cba0-40aa-9c7a-f376cd9055eb",
   "metadata": {},
   "source": [
    "## LR-тест: значимость регрессии\n",
    "Тестируем совместную значимость нескольких коэффициентов. \n",
    "\n",
    "Пусть уровень значимости $\\alpha=0.05=5\\%$\n",
    "\n",
    "Тестовая статистика $LR=2(\\log L-\\log L_{r})$ где \n",
    "- $\\log L$ – лог-правдоподобие для исходной регрессии\n",
    "- $\\log L_{r}$ - лог-правдоподобие для регрессии с ограничениями (без переменных из гипотезы)\n",
    "\n",
    "Для вычисления тестовой статистики нужно оценить две вложенных модели: без ограничений и с ограничениями\n",
    "\n",
    "**Важно** обе регрессии д.б. оценены на одном и том же датасете!"
   ]
  },
  {
   "cell_type": "code",
   "execution_count": null,
   "id": "db7b8d95-be38-40c0-a788-086f30ba787e",
   "metadata": {},
   "outputs": [],
   "source": [
    "# подгонка модели с ограничениями\n",
    "df_mod = df[['vars from model']].dropna()\n",
    "mod_r = logit(formula = 'your specification', data = df_mod)\n",
    "# mod_r = smf.probit(formula = 'your specification', data = df_mod)\n",
    "res_r = mod_r.fit(disp=False) "
   ]
  },
  {
   "cell_type": "markdown",
   "id": "9c1eba55-621e-433b-8b5d-838513957c42",
   "metadata": {},
   "source": [
    "тестовая статистика"
   ]
  },
  {
   "cell_type": "code",
   "execution_count": null,
   "id": "6c66550d-da1b-4d09-b57d-f324741460d3",
   "metadata": {},
   "outputs": [],
   "source": [
    "2*(res.llf-res_r.llf)"
   ]
  },
  {
   "cell_type": "markdown",
   "id": "caa391c6-bddd-4354-8f1c-ca6adbcc2cd8",
   "metadata": {},
   "source": [
    "Степени свободы"
   ]
  },
  {
   "cell_type": "code",
   "execution_count": null,
   "id": "7a646270-11b1-44e4-848a-c9f30fda6b33",
   "metadata": {},
   "outputs": [],
   "source": [
    "res.df_model-res_r.df_model"
   ]
  },
  {
   "cell_type": "markdown",
   "id": "945d2373-b977-4bbe-a68a-0b25c29a4be3",
   "metadata": {},
   "source": [
    "критическое значение распределения $\\chi^2_{df}$"
   ]
  },
  {
   "cell_type": "code",
   "execution_count": null,
   "id": "b37a973c-a2d5-4cf9-baa5-bd24eac6e308",
   "metadata": {},
   "outputs": [],
   "source": [
    "sign_level = 0.05\n",
    "chi2.isf(q=sign_level, df=res.df_model-res_r.df_model)"
   ]
  }
 ],
 "metadata": {
  "kernelspec": {
   "display_name": "Python 3 (ipykernel)",
   "language": "python",
   "name": "python3"
  },
  "language_info": {
   "codemirror_mode": {
    "name": "ipython",
    "version": 3
   },
   "file_extension": ".py",
   "mimetype": "text/x-python",
   "name": "python",
   "nbconvert_exporter": "python",
   "pygments_lexer": "ipython3",
   "version": "3.11.6"
  }
 },
 "nbformat": 4,
 "nbformat_minor": 5
}
