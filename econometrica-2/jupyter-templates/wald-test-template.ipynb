{
 "cells": [
  {
   "cell_type": "markdown",
   "id": "a7eeff42-3f9b-4184-8107-2a9bd9f60f30",
   "metadata": {},
   "source": [
    "# logit/probit-регрессия: тест Вальда"
   ]
  },
  {
   "cell_type": "code",
   "execution_count": null,
   "id": "2a9f579f-3785-4dd2-b22a-6864ec58625c",
   "metadata": {},
   "outputs": [],
   "source": [
    "import numpy as np\n",
    "import pandas as pd\n",
    "\n",
    "from statsmodels.formula.api import logit, probit\n",
    "\n",
    "from scipy.stats import chi2 # критические значения chi2-распределения\n",
    "\n",
    "# Не показывать Warning\n",
    "import warnings\n",
    "warnings.simplefilter(action='ignore', category=Warning)\n",
    "# Не показывать ValueWarning, ConvergenceWarning из statsmodels\n",
    "from statsmodels.tools.sm_exceptions import ValueWarning, ConvergenceWarning\n",
    "warnings.simplefilter('ignore', category=ValueWarning)\n",
    "warnings.simplefilter('ignore', category=ConvergenceWarning)"
   ]
  },
  {
   "cell_type": "code",
   "execution_count": null,
   "id": "89fd245d-7e01-473a-ab3f-6ba33a063070",
   "metadata": {},
   "outputs": [],
   "source": [
    "# импорт данных\n",
    "df = pd.read_csv('Filename.csv')"
   ]
  },
  {
   "cell_type": "markdown",
   "id": "445896f5-2196-4a62-b5aa-766e522c007e",
   "metadata": {},
   "source": [
    "## Спецификация и подгонка"
   ]
  },
  {
   "cell_type": "code",
   "execution_count": null,
   "id": "7f235934-f0d8-46c7-8ec4-a95a02ddfb03",
   "metadata": {},
   "outputs": [],
   "source": [
    "mod = logit(formula = 'your specification', data = df)\n",
    "# mod = probit(formula = 'your specification', data = df)\n",
    "res = mod.fit(disp=False)"
   ]
  },
  {
   "cell_type": "markdown",
   "id": "d7686e1b-4e8a-413d-b531-aca1d4ba40a1",
   "metadata": {},
   "source": [
    "## Тест Вальда на линейные ограничения\n",
    "Пусть уровень значимости $\\alpha=0.05=5\\%$\n",
    "\n",
    "Результат тест Вальда с тестовой статистикой $\\chi^2$"
   ]
  },
  {
   "cell_type": "code",
   "execution_count": null,
   "id": "004165c7-c85e-408e-bf92-085f4bed91c5",
   "metadata": {},
   "outputs": [],
   "source": [
    "wald_res = res.wald_test('testing hypothesis', use_f=False)"
   ]
  },
  {
   "cell_type": "markdown",
   "id": "c468c955-18d2-4c16-8de0-a99ab762e742",
   "metadata": {},
   "source": [
    "Тестовая статистика, её P-значение, степени свободы для критического значения"
   ]
  },
  {
   "cell_type": "code",
   "execution_count": null,
   "id": "1bfa569e-37d3-47ee-9dad-547033b8b7ab",
   "metadata": {},
   "outputs": [],
   "source": [
    "wald_res.statistic.round(4), wald_res.pvalue.round(4), wald_res.df_denom"
   ]
  },
  {
   "cell_type": "markdown",
   "id": "04f539a4-2c7f-49bb-8a0f-d50094f152c5",
   "metadata": {},
   "source": [
    "критическое значение распределения $\\chi^2_{df}$"
   ]
  },
  {
   "cell_type": "code",
   "execution_count": null,
   "id": "ff648855-2f1a-4cca-88da-8a1b9620ed2f",
   "metadata": {},
   "outputs": [],
   "source": [
    "sign_level = \n",
    "chi2.isf(q=sign_level, df=wald_res.df_denom)"
   ]
  }
 ],
 "metadata": {
  "kernelspec": {
   "display_name": "Python 3 (ipykernel)",
   "language": "python",
   "name": "python3"
  },
  "language_info": {
   "codemirror_mode": {
    "name": "ipython",
    "version": 3
   },
   "file_extension": ".py",
   "mimetype": "text/x-python",
   "name": "python",
   "nbconvert_exporter": "python",
   "pygments_lexer": "ipython3",
   "version": "3.11.6"
  }
 },
 "nbformat": 4,
 "nbformat_minor": 5
}
