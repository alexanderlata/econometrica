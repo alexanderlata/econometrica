{
 "cells": [
  {
   "cell_type": "markdown",
   "id": "c4de0ead-2c79-407e-8614-727640cff41f",
   "metadata": {},
   "source": [
    "# logit/probit-регрессия: z-тест"
   ]
  },
  {
   "cell_type": "code",
   "execution_count": null,
   "id": "cae3c320-d10e-40b2-ab26-376dd5c166da",
   "metadata": {},
   "outputs": [],
   "source": [
    "import numpy as np\n",
    "import pandas as pd\n",
    "\n",
    "from statsmodels.formula.api import logit, probit\n",
    "from statsmodels.iolib.summary2 import summary_params # вывод результатов тестирования\n",
    "\n",
    "from scipy.stats import norm # критические значения гауссова распределения\n",
    "\n",
    "# Не показывать Warning\n",
    "import warnings\n",
    "warnings.simplefilter(action='ignore', category=Warning)\n",
    "# Не показывать ValueWarning, ConvergenceWarning из statsmodels\n",
    "from statsmodels.tools.sm_exceptions import ValueWarning, ConvergenceWarning\n",
    "warnings.simplefilter('ignore', category=ValueWarning)\n",
    "warnings.simplefilter('ignore', category=ConvergenceWarning)"
   ]
  },
  {
   "cell_type": "code",
   "execution_count": null,
   "id": "1ba9b877-b0c4-41b8-a574-adee6548b079",
   "metadata": {},
   "outputs": [],
   "source": [
    "# импорт данных\n",
    "df = pd.read_csv('Filename.csv')"
   ]
  },
  {
   "cell_type": "markdown",
   "id": "6abadd48-e5ed-427f-bd34-959957c948a6",
   "metadata": {},
   "source": [
    "## Спецификация и подгонка"
   ]
  },
  {
   "cell_type": "code",
   "execution_count": null,
   "id": "3b1b00d6-ae17-484e-9aa8-6c2e9ac4bdbb",
   "metadata": {},
   "outputs": [],
   "source": [
    "mod = logit(formula = 'your specification', data = df)\n",
    "# mod = probit(formula = 'your specification', data = df)\n",
    "res = mod.fit(disp=False)"
   ]
  },
  {
   "cell_type": "markdown",
   "id": "6edfda05-4bf9-49bf-a9f6-59bab7e69ff5",
   "metadata": {},
   "source": [
    "## z-тест\n",
    "Пусть уровень значимости $\\alpha=0.05=5\\%$\n",
    "вывод результатов z-теста"
   ]
  },
  {
   "cell_type": "code",
   "execution_count": null,
   "id": "9debaed5-2f7c-466a-88df-b6a00f6f2443",
   "metadata": {},
   "outputs": [],
   "source": [
    "summary_params(res, alpha=0.05)"
   ]
  },
  {
   "cell_type": "markdown",
   "id": "30bdc38d-6b82-41e7-8af4-2b09502e2365",
   "metadata": {},
   "source": [
    "критическое значение стандартного гауссова распределения"
   ]
  },
  {
   "cell_type": "code",
   "execution_count": null,
   "id": "b0169492-0995-4e20-ab2a-ecad179abf7a",
   "metadata": {},
   "outputs": [],
   "source": [
    "sign_level = 0.05\n",
    "norm.isf(q=sign_level/2)"
   ]
  },
  {
   "cell_type": "markdown",
   "id": "138f6b29-dd6c-4ff8-85b4-e2d25b7c40ea",
   "metadata": {},
   "source": [
    "Какие коэффициенты значимы?"
   ]
  },
  {
   "cell_type": "markdown",
   "id": "17b5de96-abca-45cf-b43f-7de946b2c2b6",
   "metadata": {},
   "source": [
    "## Элементы z-теста\n",
    "тестовые статистики с округлением"
   ]
  },
  {
   "cell_type": "code",
   "execution_count": null,
   "id": "268e0c1a-ae3e-4121-9581-2dbf740c9c8d",
   "metadata": {},
   "outputs": [],
   "source": [
    "res.tvalues.round(3)"
   ]
  },
  {
   "cell_type": "markdown",
   "id": "ac33fe41-dc8d-478b-8f60-396278cce721",
   "metadata": {},
   "source": [
    "P-значения"
   ]
  },
  {
   "cell_type": "code",
   "execution_count": null,
   "id": "be6f6b05-27b5-43fd-8854-b5321afcddad",
   "metadata": {},
   "outputs": [],
   "source": [
    "res.pvalues.round(4)"
   ]
  }
 ],
 "metadata": {
  "kernelspec": {
   "display_name": "Python 3 (ipykernel)",
   "language": "python",
   "name": "python3"
  },
  "language_info": {
   "codemirror_mode": {
    "name": "ipython",
    "version": 3
   },
   "file_extension": ".py",
   "mimetype": "text/x-python",
   "name": "python",
   "nbconvert_exporter": "python",
   "pygments_lexer": "ipython3",
   "version": "3.11.6"
  }
 },
 "nbformat": 4,
 "nbformat_minor": 5
}
