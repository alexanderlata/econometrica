{
 "cells": [
  {
   "cell_type": "markdown",
   "metadata": {},
   "source": [
    "# logit/probit-регрессия: Сравнение моделей"
   ]
  },
  {
   "cell_type": "code",
   "execution_count": null,
   "metadata": {},
   "outputs": [],
   "source": [
    "import numpy as np\n",
    "import pandas as pd\n",
    "\n",
    "from statsmodels.formula.api import logit, probit\n",
    "from statsmodels.iolib.summary2 import summary_col # вывод результатов нескольких регрессий\n",
    "\n",
    "\n",
    "# Не показывать Warning\n",
    "import warnings\n",
    "warnings.simplefilter(action='ignore', category=Warning)\n",
    "# Не показывать ValueWarning, ConvergenceWarning из statsmodels\n",
    "from statsmodels.tools.sm_exceptions import ValueWarning, ConvergenceWarning\n",
    "warnings.simplefilter('ignore', category=ValueWarning)\n",
    "warnings.simplefilter('ignore', category=ConvergenceWarning)"
   ]
  },
  {
   "cell_type": "code",
   "execution_count": null,
   "metadata": {},
   "outputs": [],
   "source": [
    "# импорт данных\n",
    "df = pd.read_csv('Filename.csv')"
   ]
  },
  {
   "cell_type": "markdown",
   "metadata": {},
   "source": [
    "## Спецификация и подгонка нескольких моделей"
   ]
  },
  {
   "cell_type": "code",
   "execution_count": null,
   "metadata": {},
   "outputs": [],
   "source": [
    "mod1 = logit(formula = 'your specification', data = df)\n",
    "# mod1 = probit(formula = 'your specification', data = df)\n",
    "res1 = mod1.fit()\n",
    "\n",
    "mod2 = logit(formula = 'your specification', data = df)\n",
    "# mod2 = probit(formula = 'your specification', data = df)\n",
    "res2 = mod2.fit()"
   ]
  },
  {
   "cell_type": "markdown",
   "metadata": {},
   "source": [
    "## Вывод нескольких моделей на в одной таблице с включением показателей AIC, BIC, pseudo-R^2_adj"
   ]
  },
  {
   "cell_type": "code",
   "execution_count": null,
   "metadata": {},
   "outputs": [],
   "source": [
    "# Имена моделей\n",
    "mod_names = ['Модель 1', 'Модель 2', ]\n",
    "# порядок регрессоров в таблице\n",
    "# reg_order = ['Intercept', ]\n",
    "# словарь с тем, что добавим\n",
    "info_to_add = {'AIC': lambda x: '%.3f' % x.aic, 'BIC': lambda x: '%.3f' % x.bic, 'R2_adj': lambda x: '%.3f' % (1-(x.llf-x.df_model)/x.llnull) }\n",
    "# параметр '%.3f' % отвечает за округление до 3-х знаков после запятой числа указанного после знака процента\n",
    "\n",
    "summary_col(results=[res1, res2, ], model_names=mod_names, stars=True, float_format='%.3f', # regressor_order=reg_order,\n",
    "             info_dict=info_to_add)"
   ]
  }
 ],
 "metadata": {
  "language_info": {
   "name": "python"
  }
 },
 "nbformat": 4,
 "nbformat_minor": 2
}
